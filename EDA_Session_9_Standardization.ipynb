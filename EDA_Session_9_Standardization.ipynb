{
 "cells": [
  {
   "cell_type": "code",
   "execution_count": 4,
   "id": "0db2d71e-2993-4f20-81fc-b7ce9d24b36c",
   "metadata": {},
   "outputs": [],
   "source": [
    "import numpy as np\n",
    "import pandas as pd\n",
    "import matplotlib.pyplot as plt\n",
    "import seaborn as sns"
   ]
  },
  {
   "cell_type": "code",
   "execution_count": 8,
   "id": "efd0339e-5dd1-426e-91ab-96218a18e536",
   "metadata": {},
   "outputs": [
    {
     "data": {
      "text/html": [
       "<div>\n",
       "<style scoped>\n",
       "    .dataframe tbody tr th:only-of-type {\n",
       "        vertical-align: middle;\n",
       "    }\n",
       "\n",
       "    .dataframe tbody tr th {\n",
       "        vertical-align: top;\n",
       "    }\n",
       "\n",
       "    .dataframe thead th {\n",
       "        text-align: right;\n",
       "    }\n",
       "</style>\n",
       "<table border=\"1\" class=\"dataframe\">\n",
       "  <thead>\n",
       "    <tr style=\"text-align: right;\">\n",
       "      <th></th>\n",
       "      <th>case_id</th>\n",
       "      <th>continent</th>\n",
       "      <th>education_of_employee</th>\n",
       "      <th>has_job_experience</th>\n",
       "      <th>requires_job_training</th>\n",
       "      <th>no_of_employees</th>\n",
       "      <th>yr_of_estab</th>\n",
       "      <th>region_of_employment</th>\n",
       "      <th>prevailing_wage</th>\n",
       "      <th>unit_of_wage</th>\n",
       "      <th>full_time_position</th>\n",
       "      <th>case_status</th>\n",
       "    </tr>\n",
       "  </thead>\n",
       "  <tbody>\n",
       "    <tr>\n",
       "      <th>0</th>\n",
       "      <td>EZYV01</td>\n",
       "      <td>Asia</td>\n",
       "      <td>High School</td>\n",
       "      <td>N</td>\n",
       "      <td>N</td>\n",
       "      <td>14513</td>\n",
       "      <td>2007</td>\n",
       "      <td>West</td>\n",
       "      <td>592.2029</td>\n",
       "      <td>Hour</td>\n",
       "      <td>Y</td>\n",
       "      <td>Denied</td>\n",
       "    </tr>\n",
       "    <tr>\n",
       "      <th>1</th>\n",
       "      <td>EZYV02</td>\n",
       "      <td>Asia</td>\n",
       "      <td>Master's</td>\n",
       "      <td>Y</td>\n",
       "      <td>N</td>\n",
       "      <td>2412</td>\n",
       "      <td>2002</td>\n",
       "      <td>Northeast</td>\n",
       "      <td>83425.6500</td>\n",
       "      <td>Year</td>\n",
       "      <td>Y</td>\n",
       "      <td>Certified</td>\n",
       "    </tr>\n",
       "    <tr>\n",
       "      <th>2</th>\n",
       "      <td>EZYV03</td>\n",
       "      <td>Asia</td>\n",
       "      <td>Bachelor's</td>\n",
       "      <td>N</td>\n",
       "      <td>Y</td>\n",
       "      <td>44444</td>\n",
       "      <td>2008</td>\n",
       "      <td>West</td>\n",
       "      <td>122996.8600</td>\n",
       "      <td>Year</td>\n",
       "      <td>Y</td>\n",
       "      <td>Denied</td>\n",
       "    </tr>\n",
       "    <tr>\n",
       "      <th>3</th>\n",
       "      <td>EZYV04</td>\n",
       "      <td>Asia</td>\n",
       "      <td>Bachelor's</td>\n",
       "      <td>N</td>\n",
       "      <td>N</td>\n",
       "      <td>98</td>\n",
       "      <td>1897</td>\n",
       "      <td>West</td>\n",
       "      <td>83434.0300</td>\n",
       "      <td>Year</td>\n",
       "      <td>Y</td>\n",
       "      <td>Denied</td>\n",
       "    </tr>\n",
       "    <tr>\n",
       "      <th>4</th>\n",
       "      <td>EZYV05</td>\n",
       "      <td>Africa</td>\n",
       "      <td>Master's</td>\n",
       "      <td>Y</td>\n",
       "      <td>N</td>\n",
       "      <td>1082</td>\n",
       "      <td>2005</td>\n",
       "      <td>South</td>\n",
       "      <td>149907.3900</td>\n",
       "      <td>Year</td>\n",
       "      <td>Y</td>\n",
       "      <td>Certified</td>\n",
       "    </tr>\n",
       "    <tr>\n",
       "      <th>...</th>\n",
       "      <td>...</td>\n",
       "      <td>...</td>\n",
       "      <td>...</td>\n",
       "      <td>...</td>\n",
       "      <td>...</td>\n",
       "      <td>...</td>\n",
       "      <td>...</td>\n",
       "      <td>...</td>\n",
       "      <td>...</td>\n",
       "      <td>...</td>\n",
       "      <td>...</td>\n",
       "      <td>...</td>\n",
       "    </tr>\n",
       "    <tr>\n",
       "      <th>25475</th>\n",
       "      <td>EZYV25476</td>\n",
       "      <td>Asia</td>\n",
       "      <td>Bachelor's</td>\n",
       "      <td>Y</td>\n",
       "      <td>Y</td>\n",
       "      <td>2601</td>\n",
       "      <td>2008</td>\n",
       "      <td>South</td>\n",
       "      <td>77092.5700</td>\n",
       "      <td>Year</td>\n",
       "      <td>Y</td>\n",
       "      <td>Certified</td>\n",
       "    </tr>\n",
       "    <tr>\n",
       "      <th>25476</th>\n",
       "      <td>EZYV25477</td>\n",
       "      <td>Asia</td>\n",
       "      <td>High School</td>\n",
       "      <td>Y</td>\n",
       "      <td>N</td>\n",
       "      <td>3274</td>\n",
       "      <td>2006</td>\n",
       "      <td>Northeast</td>\n",
       "      <td>279174.7900</td>\n",
       "      <td>Year</td>\n",
       "      <td>Y</td>\n",
       "      <td>Certified</td>\n",
       "    </tr>\n",
       "    <tr>\n",
       "      <th>25477</th>\n",
       "      <td>EZYV25478</td>\n",
       "      <td>Asia</td>\n",
       "      <td>Master's</td>\n",
       "      <td>Y</td>\n",
       "      <td>N</td>\n",
       "      <td>1121</td>\n",
       "      <td>1910</td>\n",
       "      <td>South</td>\n",
       "      <td>146298.8500</td>\n",
       "      <td>Year</td>\n",
       "      <td>N</td>\n",
       "      <td>Certified</td>\n",
       "    </tr>\n",
       "    <tr>\n",
       "      <th>25478</th>\n",
       "      <td>EZYV25479</td>\n",
       "      <td>Asia</td>\n",
       "      <td>Master's</td>\n",
       "      <td>Y</td>\n",
       "      <td>Y</td>\n",
       "      <td>1918</td>\n",
       "      <td>1887</td>\n",
       "      <td>West</td>\n",
       "      <td>86154.7700</td>\n",
       "      <td>Year</td>\n",
       "      <td>Y</td>\n",
       "      <td>Certified</td>\n",
       "    </tr>\n",
       "    <tr>\n",
       "      <th>25479</th>\n",
       "      <td>EZYV25480</td>\n",
       "      <td>Asia</td>\n",
       "      <td>Bachelor's</td>\n",
       "      <td>Y</td>\n",
       "      <td>N</td>\n",
       "      <td>3195</td>\n",
       "      <td>1960</td>\n",
       "      <td>Midwest</td>\n",
       "      <td>70876.9100</td>\n",
       "      <td>Year</td>\n",
       "      <td>Y</td>\n",
       "      <td>Certified</td>\n",
       "    </tr>\n",
       "  </tbody>\n",
       "</table>\n",
       "<p>25480 rows × 12 columns</p>\n",
       "</div>"
      ],
      "text/plain": [
       "         case_id continent education_of_employee has_job_experience  \\\n",
       "0         EZYV01      Asia           High School                  N   \n",
       "1         EZYV02      Asia              Master's                  Y   \n",
       "2         EZYV03      Asia            Bachelor's                  N   \n",
       "3         EZYV04      Asia            Bachelor's                  N   \n",
       "4         EZYV05    Africa              Master's                  Y   \n",
       "...          ...       ...                   ...                ...   \n",
       "25475  EZYV25476      Asia            Bachelor's                  Y   \n",
       "25476  EZYV25477      Asia           High School                  Y   \n",
       "25477  EZYV25478      Asia              Master's                  Y   \n",
       "25478  EZYV25479      Asia              Master's                  Y   \n",
       "25479  EZYV25480      Asia            Bachelor's                  Y   \n",
       "\n",
       "      requires_job_training  no_of_employees  yr_of_estab  \\\n",
       "0                         N            14513         2007   \n",
       "1                         N             2412         2002   \n",
       "2                         Y            44444         2008   \n",
       "3                         N               98         1897   \n",
       "4                         N             1082         2005   \n",
       "...                     ...              ...          ...   \n",
       "25475                     Y             2601         2008   \n",
       "25476                     N             3274         2006   \n",
       "25477                     N             1121         1910   \n",
       "25478                     Y             1918         1887   \n",
       "25479                     N             3195         1960   \n",
       "\n",
       "      region_of_employment  prevailing_wage unit_of_wage full_time_position  \\\n",
       "0                     West         592.2029         Hour                  Y   \n",
       "1                Northeast       83425.6500         Year                  Y   \n",
       "2                     West      122996.8600         Year                  Y   \n",
       "3                     West       83434.0300         Year                  Y   \n",
       "4                    South      149907.3900         Year                  Y   \n",
       "...                    ...              ...          ...                ...   \n",
       "25475                South       77092.5700         Year                  Y   \n",
       "25476            Northeast      279174.7900         Year                  Y   \n",
       "25477                South      146298.8500         Year                  N   \n",
       "25478                 West       86154.7700         Year                  Y   \n",
       "25479              Midwest       70876.9100         Year                  Y   \n",
       "\n",
       "      case_status  \n",
       "0          Denied  \n",
       "1       Certified  \n",
       "2          Denied  \n",
       "3          Denied  \n",
       "4       Certified  \n",
       "...           ...  \n",
       "25475   Certified  \n",
       "25476   Certified  \n",
       "25477   Certified  \n",
       "25478   Certified  \n",
       "25479   Certified  \n",
       "\n",
       "[25480 rows x 12 columns]"
      ]
     },
     "execution_count": 8,
     "metadata": {},
     "output_type": "execute_result"
    }
   ],
   "source": [
    "visa_df=pd.read_csv(r\"C:\\Users\\Almannan\\OneDrive\\NareshIT\\DSAIML\\DataFiles\\Visadataset.csv\")\n",
    "visa_df"
   ]
  },
  {
   "cell_type": "markdown",
   "id": "37631180-eeb8-4a8b-9295-77545859d594",
   "metadata": {},
   "source": [
    "**Standardization**\n",
    "\n",
    "- \n",
    "- Standardization is a technique to scale all the data under one scale.\n",
    "\n",
    "- - Different columns has different values also different units\n",
    " \n",
    "  - Some columns vlues had=s bigger vlaues and some column values has smaller values\n",
    " \n",
    "  - So it is important to keep all the vlaues under one scale\n",
    " \n",
    "  - we have two methods\n",
    " \n",
    "  - Standardization\n",
    " \n",
    "  - Normalization\n",
    " \n",
    "**Standardization** \n",
    "\n",
    "    - Z - Score\n",
    "    - Z Score varies values from -3 to 3\n",
    "\n",
    "<img data-attachment-id=\"593\" data-permalink=\"https://fredclavel.org/2019/03/18/basics-standardization-and-the-z-score/z-score-population/\" data-orig-file=\"https://fredclavel.org/wp-content/uploads/2019/03/z-score-population.png\" data-orig-size=\"440,254\" data-comments-opened=\"1\" data-image-meta=\"{&quot;aperture&quot;:&quot;0&quot;,&quot;credit&quot;:&quot;&quot;,&quot;camera&quot;:&quot;&quot;,&quot;caption&quot;:&quot;&quot;,&quot;created_timestamp&quot;:&quot;0&quot;,&quot;copyright&quot;:&quot;&quot;,&quot;focal_length&quot;:&quot;0&quot;,&quot;iso&quot;:&quot;0&quot;,&quot;shutter_speed&quot;:&quot;0&quot;,&quot;title&quot;:&quot;&quot;,&quot;orientation&quot;:&quot;0&quot;}\" data-image-title=\"Z score population\" data-image-description=\"\" data-image-caption=\"\" data-medium-file=\"https://fredclavel.org/wp-content/uploads/2019/03/z-score-population.png?w=300\" data-large-file=\"https://fredclavel.org/wp-content/uploads/2019/03/z-score-population.png?w=440\" class=\"size-medium wp-image-593 aligncenter\" src=\"https://fredclavel.org/wp-content/uploads/2019/03/z-score-population.png?w=300\" alt=\"\" width=\"300\" height=\"173\" srcset=\"https://fredclavel.org/wp-content/uploads/2019/03/z-score-population.png?w=300 300w, https://fredclavel.org/wp-content/uploads/2019/03/z-score-population.png?w=150 150w, https://fredclavel.org/wp-content/uploads/2019/03/z-score-population.png 440w\" sizes=\"(max-width: 300px) 100vw, 300px\">\n",
    "\n",
    "\n",
    "\n",
    "\n",
    "\n",
    "\n",
    "\n",
    "    "
   ]
  },
  {
   "cell_type": "markdown",
   "id": "5e70ffed-eef2-4d14-9f48-d5be6d5da3b9",
   "metadata": {},
   "source": [
    "**Normalization**\n",
    "\n",
    "- min max scalar\n",
    "\n",
    "- values range from 0 to 1\n",
    "\n",
    "- "
   ]
  },
  {
   "cell_type": "markdown",
   "id": "ac8b67d6-9053-44a8-976d-15198516520d",
   "metadata": {},
   "source": [
    "**task**\n",
    "\n",
    "1 step 1 - read the data take prevailing wage column\n",
    "\n",
    "step2 - calculate mean value of prevailing wage column\n",
    "\n",
    "step 3 - calcualte the standard deviation of prevailing wage\n",
    "\n",
    "step 4 0 calcualte nr -  step 1 - step 2\n",
    "\n",
    "step 5 : divde step 4 with step 3\n",
    "\n"
   ]
  },
  {
   "cell_type": "code",
   "execution_count": 17,
   "id": "7ad5109f-9a7c-45ac-82a7-515e02b663cd",
   "metadata": {},
   "outputs": [
    {
     "data": {
      "text/plain": [
       "0       -1.398510\n",
       "1        0.169832\n",
       "2        0.919060\n",
       "3        0.169991\n",
       "4        1.428576\n",
       "           ...   \n",
       "25475    0.049923\n",
       "25476    3.876083\n",
       "25477    1.360253\n",
       "25478    0.221504\n",
       "25479   -0.067762\n",
       "Name: prevailing_wage, Length: 25480, dtype: float64"
      ]
     },
     "execution_count": 17,
     "metadata": {},
     "output_type": "execute_result"
    }
   ],
   "source": [
    "\n",
    "mean = visa_df['prevailing_wage'].mean()\n",
    "stdev=visa_df['prevailing_wage'].std()\n",
    "\n",
    "nr= visa_df['prevailing_wage']-mean\n",
    "s5=nr/stdev\n",
    "\n",
    "visa_df['prevailing_wage_z']=nr/stdev\n",
    "s5"
   ]
  },
  {
   "cell_type": "code",
   "execution_count": 18,
   "id": "8df05c54-8a25-4e84-9724-b8f6c3524ad5",
   "metadata": {},
   "outputs": [
    {
     "name": "stdout",
     "output_type": "stream",
     "text": [
      "0       -1.398510\n",
      "1        0.169832\n",
      "2        0.919060\n",
      "3        0.169991\n",
      "4        1.428576\n",
      "           ...   \n",
      "25475    0.049923\n",
      "25476    3.876083\n",
      "25477    1.360253\n",
      "25478    0.221504\n",
      "25479   -0.067762\n",
      "Name: prevailing_wage_z, Length: 25480, dtype: float64 0           592.2029\n",
      "1         83425.6500\n",
      "2        122996.8600\n",
      "3         83434.0300\n",
      "4        149907.3900\n",
      "            ...     \n",
      "25475     77092.5700\n",
      "25476    279174.7900\n",
      "25477    146298.8500\n",
      "25478     86154.7700\n",
      "25479     70876.9100\n",
      "Name: prevailing_wage, Length: 25480, dtype: float64\n"
     ]
    }
   ],
   "source": [
    "print(visa_df['prevailing_wage_z'],visa_df['prevailing_wage'])\n",
    "    "
   ]
  },
  {
   "cell_type": "markdown",
   "id": "f27369aa-0676-4466-88f0-f04a2c37c125",
   "metadata": {},
   "source": [
    "**task 2 **\n",
    "\n",
    "- Compare the two columns\n",
    "\n",
    "    - get the maximum value and minimum value of indexes\n",
    " \n",
    "    - the both indexes should match\n",
    "\n",
    "    - \n",
    "\n",
    "  "
   ]
  },
  {
   "cell_type": "markdown",
   "id": "f8510770-5ecb-4f5a-a78b-18119ed06813",
   "metadata": {},
   "source": [
    "**idxmax** - **idxmin**\n",
    "\n"
   ]
  },
  {
   "cell_type": "code",
   "execution_count": 23,
   "id": "5c50a99b-e8e3-4a70-b070-3a28a83e9773",
   "metadata": {},
   "outputs": [
    {
     "name": "stdout",
     "output_type": "stream",
     "text": [
      "21077 21077 20575 20575\n"
     ]
    }
   ],
   "source": [
    "maxx1, minn1= visa_df['prevailing_wage'].idxmax(), visa_df['prevailing_wage'].idxmin()\n",
    "maxx2, minn2= visa_df['prevailing_wage_z'].idxmax(), visa_df['prevailing_wage_z'].idxmin()\n",
    "\n",
    "print(maxx1,maxx2, minn1, minn2)"
   ]
  },
  {
   "cell_type": "code",
   "execution_count": 22,
   "id": "14baaa9a-1299-4a4c-a680-94361c508820",
   "metadata": {},
   "outputs": [
    {
     "data": {
      "text/plain": [
       "((21077, 21077), (20575, 20575))"
      ]
     },
     "execution_count": 22,
     "metadata": {},
     "output_type": "execute_result"
    }
   ],
   "source": [
    "maxx= visa_df['prevailing_wage'].idxmax(), visa_df['prevailing_wage_z'].idxmax()\n",
    "minn= visa_df['prevailing_wage'].idxmin(), visa_df['prevailing_wage_z'].idxmin()\n",
    "\n",
    "maxx,minn"
   ]
  },
  {
   "cell_type": "code",
   "execution_count": 26,
   "id": "701081e6-2e26-4e8a-8832-bcaaa9f9a8f0",
   "metadata": {},
   "outputs": [
    {
     "data": {
      "text/plain": [
       "((21077, 21077), (20575, 20575))"
      ]
     },
     "execution_count": 26,
     "metadata": {},
     "output_type": "execute_result"
    }
   ],
   "source": [
    "max_val= visa_df['prevailing_wage'].max(), visa_df['prevailing_wage_z'].max()\n",
    "min_val= visa_df['prevailing_wage'].min(), visa_df['prevailing_wage_z'].min()\n",
    "\n",
    "maxx,minn"
   ]
  },
  {
   "cell_type": "markdown",
   "id": "bb933546-6d27-426f-9a09-4a5a9306f06b",
   "metadata": {},
   "source": [
    "**Standard Scalar**\n",
    "\n",
    "- Standard Scalar same as Z-Score but by using package\n",
    "\n",
    "- It is under sklearn package\n",
    "\n",
    "- In the sklearn, we have preprocessing\n",
    "\n",
    "- "
   ]
  },
  {
   "cell_type": "markdown",
   "id": "f336ed1b-22d5-45fa-ae43-72067739a069",
   "metadata": {},
   "source": [
    "- Single Square bracket is series\n",
    "\n",
    "- Double Square bracket is Data Frame\n",
    "\n",
    "- wheneever you see the share error apply double square bracket"
   ]
  },
  {
   "cell_type": "code",
   "execution_count": 31,
   "id": "577fd45e-ff43-41d9-befd-9795c811385a",
   "metadata": {},
   "outputs": [
    {
     "data": {
      "text/html": [
       "<div>\n",
       "<style scoped>\n",
       "    .dataframe tbody tr th:only-of-type {\n",
       "        vertical-align: middle;\n",
       "    }\n",
       "\n",
       "    .dataframe tbody tr th {\n",
       "        vertical-align: top;\n",
       "    }\n",
       "\n",
       "    .dataframe thead th {\n",
       "        text-align: right;\n",
       "    }\n",
       "</style>\n",
       "<table border=\"1\" class=\"dataframe\">\n",
       "  <thead>\n",
       "    <tr style=\"text-align: right;\">\n",
       "      <th></th>\n",
       "      <th>prevailing_wage_ss</th>\n",
       "      <th>prevailing_wage_z</th>\n",
       "      <th>prevailing_wage</th>\n",
       "    </tr>\n",
       "  </thead>\n",
       "  <tbody>\n",
       "    <tr>\n",
       "      <th>0</th>\n",
       "      <td>-1.398537</td>\n",
       "      <td>-1.398510</td>\n",
       "      <td>592.2029</td>\n",
       "    </tr>\n",
       "    <tr>\n",
       "      <th>1</th>\n",
       "      <td>0.169835</td>\n",
       "      <td>0.169832</td>\n",
       "      <td>83425.6500</td>\n",
       "    </tr>\n",
       "    <tr>\n",
       "      <th>2</th>\n",
       "      <td>0.919079</td>\n",
       "      <td>0.919060</td>\n",
       "      <td>122996.8600</td>\n",
       "    </tr>\n",
       "    <tr>\n",
       "      <th>3</th>\n",
       "      <td>0.169994</td>\n",
       "      <td>0.169991</td>\n",
       "      <td>83434.0300</td>\n",
       "    </tr>\n",
       "    <tr>\n",
       "      <th>4</th>\n",
       "      <td>1.428604</td>\n",
       "      <td>1.428576</td>\n",
       "      <td>149907.3900</td>\n",
       "    </tr>\n",
       "    <tr>\n",
       "      <th>...</th>\n",
       "      <td>...</td>\n",
       "      <td>...</td>\n",
       "      <td>...</td>\n",
       "    </tr>\n",
       "    <tr>\n",
       "      <th>25475</th>\n",
       "      <td>0.049924</td>\n",
       "      <td>0.049923</td>\n",
       "      <td>77092.5700</td>\n",
       "    </tr>\n",
       "    <tr>\n",
       "      <th>25476</th>\n",
       "      <td>3.876159</td>\n",
       "      <td>3.876083</td>\n",
       "      <td>279174.7900</td>\n",
       "    </tr>\n",
       "    <tr>\n",
       "      <th>25477</th>\n",
       "      <td>1.360280</td>\n",
       "      <td>1.360253</td>\n",
       "      <td>146298.8500</td>\n",
       "    </tr>\n",
       "    <tr>\n",
       "      <th>25478</th>\n",
       "      <td>0.221509</td>\n",
       "      <td>0.221504</td>\n",
       "      <td>86154.7700</td>\n",
       "    </tr>\n",
       "    <tr>\n",
       "      <th>25479</th>\n",
       "      <td>-0.067763</td>\n",
       "      <td>-0.067762</td>\n",
       "      <td>70876.9100</td>\n",
       "    </tr>\n",
       "  </tbody>\n",
       "</table>\n",
       "<p>25480 rows × 3 columns</p>\n",
       "</div>"
      ],
      "text/plain": [
       "       prevailing_wage_ss  prevailing_wage_z  prevailing_wage\n",
       "0               -1.398537          -1.398510         592.2029\n",
       "1                0.169835           0.169832       83425.6500\n",
       "2                0.919079           0.919060      122996.8600\n",
       "3                0.169994           0.169991       83434.0300\n",
       "4                1.428604           1.428576      149907.3900\n",
       "...                   ...                ...              ...\n",
       "25475            0.049924           0.049923       77092.5700\n",
       "25476            3.876159           3.876083      279174.7900\n",
       "25477            1.360280           1.360253      146298.8500\n",
       "25478            0.221509           0.221504       86154.7700\n",
       "25479           -0.067763          -0.067762       70876.9100\n",
       "\n",
       "[25480 rows x 3 columns]"
      ]
     },
     "execution_count": 31,
     "metadata": {},
     "output_type": "execute_result"
    }
   ],
   "source": [
    "from sklearn.preprocessing import StandardScaler\n",
    "\n",
    "ss = StandardScaler()\n",
    "\n",
    "\n",
    "visa_df['prevailing_wage_ss']= ss.fit_transform(visa_df[['prevailing_wage']])\n",
    "\n",
    "\n",
    "visa_df[['prevailing_wage_ss','prevailing_wage_z','prevailing_wage']]\n",
    "\n",
    "\n",
    "                          "
   ]
  },
  {
   "cell_type": "markdown",
   "id": "f9676f40-6f9d-4ad7-87a7-4714ca03a596",
   "metadata": {},
   "source": [
    "**Normalization**"
   ]
  },
  {
   "cell_type": "markdown",
   "id": "f29de078-32bb-48b6-bb18-de900db1fe3e",
   "metadata": {},
   "source": [
    "**task**\n",
    "\n",
    "1 step 1 - read the data take prevailing wage column : visa_df['prevailing_wage']\n",
    "\n",
    "step2 - calculate min value of prevailing wage column  : visa_df[['prevailing_wage'].min()\n",
    "\n",
    "step3 - calculate max value of prevailing wage column  : visa_df[['prevailing_wage'].max()\n",
    "\n",
    "step 4  calcualte nr -  step 1 - step 2\n",
    "\n",
    "step 5  calcualte dr -  step 3 - step 2\n",
    "\n",
    "step 6 : divde step 4 with step 5"
   ]
  },
  {
   "cell_type": "code",
   "execution_count": 38,
   "id": "d74487dd-9f3c-447d-b686-00634ebb6b80",
   "metadata": {},
   "outputs": [
    {
     "data": {
      "text/html": [
       "<div>\n",
       "<style scoped>\n",
       "    .dataframe tbody tr th:only-of-type {\n",
       "        vertical-align: middle;\n",
       "    }\n",
       "\n",
       "    .dataframe tbody tr th {\n",
       "        vertical-align: top;\n",
       "    }\n",
       "\n",
       "    .dataframe thead th {\n",
       "        text-align: right;\n",
       "    }\n",
       "</style>\n",
       "<table border=\"1\" class=\"dataframe\">\n",
       "  <thead>\n",
       "    <tr style=\"text-align: right;\">\n",
       "      <th></th>\n",
       "      <th>prevailing_wage_min_max</th>\n",
       "      <th>prevailing_wage</th>\n",
       "    </tr>\n",
       "  </thead>\n",
       "  <tbody>\n",
       "    <tr>\n",
       "      <th>0</th>\n",
       "      <td>0.001849</td>\n",
       "      <td>592.2029</td>\n",
       "    </tr>\n",
       "    <tr>\n",
       "      <th>1</th>\n",
       "      <td>0.261345</td>\n",
       "      <td>83425.6500</td>\n",
       "    </tr>\n",
       "    <tr>\n",
       "      <th>2</th>\n",
       "      <td>0.385312</td>\n",
       "      <td>122996.8600</td>\n",
       "    </tr>\n",
       "    <tr>\n",
       "      <th>3</th>\n",
       "      <td>0.261371</td>\n",
       "      <td>83434.0300</td>\n",
       "    </tr>\n",
       "    <tr>\n",
       "      <th>4</th>\n",
       "      <td>0.469616</td>\n",
       "      <td>149907.3900</td>\n",
       "    </tr>\n",
       "    <tr>\n",
       "      <th>...</th>\n",
       "      <td>...</td>\n",
       "      <td>...</td>\n",
       "    </tr>\n",
       "    <tr>\n",
       "      <th>25475</th>\n",
       "      <td>0.241505</td>\n",
       "      <td>77092.5700</td>\n",
       "    </tr>\n",
       "    <tr>\n",
       "      <th>25476</th>\n",
       "      <td>0.874579</td>\n",
       "      <td>279174.7900</td>\n",
       "    </tr>\n",
       "    <tr>\n",
       "      <th>25477</th>\n",
       "      <td>0.458311</td>\n",
       "      <td>146298.8500</td>\n",
       "    </tr>\n",
       "    <tr>\n",
       "      <th>25478</th>\n",
       "      <td>0.269895</td>\n",
       "      <td>86154.7700</td>\n",
       "    </tr>\n",
       "    <tr>\n",
       "      <th>25479</th>\n",
       "      <td>0.222033</td>\n",
       "      <td>70876.9100</td>\n",
       "    </tr>\n",
       "  </tbody>\n",
       "</table>\n",
       "<p>25480 rows × 2 columns</p>\n",
       "</div>"
      ],
      "text/plain": [
       "       prevailing_wage_min_max  prevailing_wage\n",
       "0                     0.001849         592.2029\n",
       "1                     0.261345       83425.6500\n",
       "2                     0.385312      122996.8600\n",
       "3                     0.261371       83434.0300\n",
       "4                     0.469616      149907.3900\n",
       "...                        ...              ...\n",
       "25475                 0.241505       77092.5700\n",
       "25476                 0.874579      279174.7900\n",
       "25477                 0.458311      146298.8500\n",
       "25478                 0.269895       86154.7700\n",
       "25479                 0.222033       70876.9100\n",
       "\n",
       "[25480 rows x 2 columns]"
      ]
     },
     "execution_count": 38,
     "metadata": {},
     "output_type": "execute_result"
    }
   ],
   "source": [
    "min = visa_df['prevailing_wage'].min()\n",
    "max = visa_df['prevailing_wage'].max()\n",
    "\n",
    "nr= visa_df['prevailing_wage']-min\n",
    "dr=max-min\n",
    "\n",
    "visa_df['prevailing_wage_min_max']=nr/dr\n",
    "visa_df[['prevailing_wage_min_max', 'prevailing_wage']]"
   ]
  },
  {
   "cell_type": "markdown",
   "id": "2d0b75d0-441d-4d58-a347-593741acf1e2",
   "metadata": {},
   "source": [
    "**Package name: MinMaxScalar**\n",
    "\n",
    "-xx\n",
    "\n",
    "-xx\n",
    "\n",
    "\n",
    "\n"
   ]
  },
  {
   "cell_type": "code",
   "execution_count": 1,
   "id": "c16b1cf5-1ea8-45db-ab1d-d12527d60c7a",
   "metadata": {},
   "outputs": [],
   "source": [
    "import numpy as np\n",
    "import matplotlib.pyplot as plt"
   ]
  },
  {
   "cell_type": "code",
   "execution_count": 3,
   "id": "b24b2107-393b-499e-b3ef-0827fd936b2e",
   "metadata": {},
   "outputs": [
    {
     "data": {
      "text/plain": [
       "array([0.42273448, 0.46498056, 0.73860766, ..., 0.24886934, 3.99206324,\n",
       "       3.0175154 ])"
      ]
     },
     "execution_count": 3,
     "metadata": {},
     "output_type": "execute_result"
    }
   ],
   "source": [
    "exp_data=np.random.exponential(size=10000)\n",
    "exp_data"
   ]
  },
  {
   "cell_type": "code",
   "execution_count": 4,
   "id": "da7c4824-e282-4a54-acdb-402ad951f679",
   "metadata": {},
   "outputs": [
    {
     "data": {
      "image/png": "[encoded data removed]",
      "text/plain": [
       "<Figure size 640x480 with 1 Axes>"
      ]
     },
     "metadata": {},
     "output_type": "display_data"
    }
   ],
   "source": [
    "plt.hist(exp_data, bins=20, label='Exponential')\n",
    "plt.show()"
   ]
  },
  {
   "cell_type": "code",
   "execution_count": 5,
   "id": "d3ffdf83-2f7e-419f-90ed-47d624bbcce8",
   "metadata": {},
   "outputs": [
    {
     "data": {
      "text/plain": [
       "array([-0.08345683,  0.46451374, -1.33257974, ...,  0.62694811,\n",
       "        0.72090522, -0.01290155])"
      ]
     },
     "execution_count": 5,
     "metadata": {},
     "output_type": "execute_result"
    }
   ],
   "source": [
    "nor_data=np.random.normal(size=10000)\n",
    "nor_data"
   ]
  },
  {
   "cell_type": "code",
   "execution_count": 6,
   "id": "0ba8c209-3019-4349-834f-db2c56f1f670",
   "metadata": {},
   "outputs": [
    {
     "data": {
      "image/png": "[encoded data removed]",
      "text/plain": [
       "<Figure size 640x480 with 1 Axes>"
      ]
     },
     "metadata": {},
     "output_type": "display_data"
    }
   ],
   "source": [
    "plt.hist(nor_data, bins=20, label='Exponential')\n",
    "plt.show()"
   ]
  },
  {
   "cell_type": "markdown",
   "id": "503253c3-20a0-4bae-8db9-6701ce84a26e",
   "metadata": {},
   "source": [
    "**Goal**\n",
    "\n",
    "- **The goal is to convert exp_data to Normal Distribution**\n",
    "\n",
    "- Step - 4\n",
    "\n",
    "- Log Transformation means performing logarithm operations on original data\n",
    "\n",
    "- It is an approach to convert into Normal distribution\n",
    "\n",
    "- Log Means natural logarithm base=e\n",
    "\n",
    "- "
   ]
  },
  {
   "cell_type": "code",
   "execution_count": 7,
   "id": "93971610-6e19-4bdd-a7ff-fc891cdcce52",
   "metadata": {},
   "outputs": [
    {
     "data": {
      "text/plain": [
       "0.6931471805599453"
      ]
     },
     "execution_count": 7,
     "metadata": {},
     "output_type": "execute_result"
    }
   ],
   "source": [
    "x=2\n",
    "np.log(x)"
   ]
  },
  {
   "cell_type": "code",
   "execution_count": 8,
   "id": "812d0755-e992-48e1-856d-92b4c61a118d",
   "metadata": {},
   "outputs": [],
   "source": [
    "log_data = np.log(exp_data)\n",
    "\n",
    "plt.hist(nor_data, bins=20, label='Exponential')\n",
    "plt.show()"
   ]
  },
  {
   "cell_type": "code",
   "execution_count": 9,
   "id": "48fec262-03f7-4c0f-b3af-8d8bdfa61d88",
   "metadata": {},
   "outputs": [
    {
     "data": {
      "image/png": "[encoded data removed]",
      "text/plain": [
       "<Figure size 640x480 with 1 Axes>"
      ]
     },
     "metadata": {},
     "output_type": "display_data"
    }
   ],
   "source": [
    "plt.hist(log_data, bins=20, label='Log - Exponential')\n",
    "plt.show()"
   ]
  },
  {
   "cell_type": "code",
   "execution_count": 13,
   "id": "8dcfb8f8-3649-4b9c-a181-0d04ec80bc56",
   "metadata": {},
   "outputs": [
    {
     "data": {
      "image/png": "[encoded data removed]",
      "text/plain": [
       "<Figure size 1000x500 with 2 Axes>"
      ]
     },
     "metadata": {},
     "output_type": "display_data"
    }
   ],
   "source": [
    "plt.figure(figsize=(10,5))\n",
    "plt.subplot(1,2,1).hist(exp_data, bins=20, label='Exponential')\n",
    "plt.legend()\n",
    "plt.subplot(1,2,2).hist(log_data, bins=20, label='Log - Exponential')\n",
    "plt.legend()\n",
    "plt.show()"
   ]
  },
  {
   "cell_type": "markdown",
   "id": "fdbee6e3-1cf5-45e1-9b48-1a8d23f48d9e",
   "metadata": {},
   "source": [
    "**Reciprocal Transformation**\n",
    "\n",
    "- x=2\n",
    "- reciprocal = 1/x = 0.5"
   ]
  },
  {
   "cell_type": "code",
   "execution_count": 17,
   "id": "6bb2c975-ce3a-4b65-babe-c0b66b9b9e43",
   "metadata": {},
   "outputs": [
    {
     "data": {
      "image/png": "[encoded data removed]",
      "text/plain": [
       "<Figure size 640x480 with 1 Axes>"
      ]
     },
     "metadata": {},
     "output_type": "display_data"
    }
   ],
   "source": [
    "rec_data = np.reciprocal(exp_data)\n",
    "\n",
    "plt.hist(rec_data, bins=30, label='Reciprocal')\n",
    "plt.show()"
   ]
  },
  {
   "cell_type": "code",
   "execution_count": 18,
   "id": "c22cba4c-5c7a-4093-91af-23f93d264da3",
   "metadata": {},
   "outputs": [
    {
     "data": {
      "image/png": "[encoded data removed]",
      "text/plain": [
       "<Figure size 1000x500 with 3 Axes>"
      ]
     },
     "metadata": {},
     "output_type": "display_data"
    }
   ],
   "source": [
    "plt.figure(figsize=(10,5))\n",
    "plt.subplot(1,3,1).hist(exp_data, bins=20, label='Exponential')\n",
    "plt.legend()\n",
    "plt.subplot(1,3,2).hist(log_data, bins=20, label='Log - Exponential')\n",
    "plt.legend()\n",
    "plt.subplot(1,3,3).hist(rec_data, bins=20, label='Reciprocal')\n",
    "plt.legend()\n",
    "plt.show()"
   ]
  },
  {
   "cell_type": "markdown",
   "id": "64dc38bf-9128-4361-962a-0c0dc164e90a",
   "metadata": {},
   "source": [
    " - Reciprocal will fail when values are low\n",
    "\n",
    "- fro example x=0 then 1/0 will fail"
   ]
  },
  {
   "cell_type": "code",
   "execution_count": 20,
   "id": "03f07a38-08d9-45dc-9ec8-cc69eb9f7e2d",
   "metadata": {},
   "outputs": [
    {
     "data": {
      "image/png": "[encoded data removed]",
      "text/plain": [
       "<Figure size 640x480 with 1 Axes>"
      ]
     },
     "metadata": {},
     "output_type": "display_data"
    }
   ],
   "source": [
    "sqrt_data = np.sqrt(exp_data)\n",
    "\n",
    "plt.hist(sqrt_data, bins=30, label='Square Root')\n",
    "plt.show()"
   ]
  },
  {
   "cell_type": "code",
   "execution_count": 22,
   "id": "8fd39a8a-9b17-4097-8d57-56641329d701",
   "metadata": {},
   "outputs": [
    {
     "data": {
      "image/png": "[encoded data removed]",
      "text/plain": [
       "<Figure size 2000x500 with 4 Axes>"
      ]
     },
     "metadata": {},
     "output_type": "display_data"
    }
   ],
   "source": [
    "plt.figure(figsize=(20,5))\n",
    "plt.subplot(1,4,1).hist(exp_data, bins=20, label='Exponential')\n",
    "plt.legend()\n",
    "plt.subplot(1,4,2).hist(log_data, bins=20, label='Log - Exponential')\n",
    "plt.legend()\n",
    "plt.subplot(1,4,3).hist(rec_data, bins=20, label='Reciprocal')\n",
    "plt.legend()\n",
    "plt.subplot(1,4,4).hist(sqrt_data, bins=20, label='Square Root')\n",
    "plt.legend()\n",
    "plt.show()"
   ]
  },
  {
   "cell_type": "markdown",
   "id": "fac25c6e-5d64-4408-8317-b78022abaf66",
   "metadata": {},
   "source": [
    "**Power Transformer**\n",
    "\n",
    "- "
   ]
  },
  {
   "cell_type": "code",
   "execution_count": 25,
   "id": "aaea8fb3-4085-4c70-92d8-953884445af6",
   "metadata": {},
   "outputs": [],
   "source": [
    "from sklearn.preprocessing import PowerTransformer\n",
    "import numpy as np"
   ]
  },
  {
   "cell_type": "code",
   "execution_count": 33,
   "id": "60683325-bc98-4f74-baf1-dad430a745a6",
   "metadata": {},
   "outputs": [
    {
     "ename": "ValueError",
     "evalue": "The Box-Cox transformation can only be applied to strictly positive data",
     "output_type": "error",
     "traceback": [
      "\u001b[1;31m---------------------------------------------------------------------------\u001b[0m",
      "\u001b[1;31mValueError\u001b[0m                                Traceback (most recent call last)",
      "Cell \u001b[1;32mIn[33], line 14\u001b[0m\n\u001b[0;32m     12\u001b[0m \u001b[38;5;66;03m# Fit the transformer to the data\u001b[39;00m\n\u001b[0;32m     13\u001b[0m pt_yeo\u001b[38;5;241m.\u001b[39mfit(X)\n\u001b[1;32m---> 14\u001b[0m pt_boxcox\u001b[38;5;241m.\u001b[39mfit(X)\n\u001b[0;32m     16\u001b[0m \u001b[38;5;66;03m# Transform the data\u001b[39;00m\n\u001b[0;32m     17\u001b[0m X_transformed_yeo \u001b[38;5;241m=\u001b[39m pt_yeo\u001b[38;5;241m.\u001b[39mtransform(X)\n",
      "File \u001b[1;32m~\\anaconda3\\Lib\\site-packages\\sklearn\\preprocessing\\_data.py:3082\u001b[0m, in \u001b[0;36mPowerTransformer.fit\u001b[1;34m(self, X, y)\u001b[0m\n\u001b[0;32m   3063\u001b[0m \u001b[38;5;250m\u001b[39m\u001b[38;5;124;03m\"\"\"Estimate the optimal parameter lambda for each feature.\u001b[39;00m\n\u001b[0;32m   3064\u001b[0m \n\u001b[0;32m   3065\u001b[0m \u001b[38;5;124;03mThe optimal lambda parameter for minimizing skewness is estimated on\u001b[39;00m\n\u001b[1;32m   (...)\u001b[0m\n\u001b[0;32m   3079\u001b[0m \u001b[38;5;124;03m    Fitted transformer.\u001b[39;00m\n\u001b[0;32m   3080\u001b[0m \u001b[38;5;124;03m\"\"\"\u001b[39;00m\n\u001b[0;32m   3081\u001b[0m \u001b[38;5;28mself\u001b[39m\u001b[38;5;241m.\u001b[39m_validate_params()\n\u001b[1;32m-> 3082\u001b[0m \u001b[38;5;28mself\u001b[39m\u001b[38;5;241m.\u001b[39m_fit(X, y\u001b[38;5;241m=\u001b[39my, force_transform\u001b[38;5;241m=\u001b[39m\u001b[38;5;28;01mFalse\u001b[39;00m)\n\u001b[0;32m   3083\u001b[0m \u001b[38;5;28;01mreturn\u001b[39;00m \u001b[38;5;28mself\u001b[39m\n",
      "File \u001b[1;32m~\\anaconda3\\Lib\\site-packages\\sklearn\\preprocessing\\_data.py:3106\u001b[0m, in \u001b[0;36mPowerTransformer._fit\u001b[1;34m(self, X, y, force_transform)\u001b[0m\n\u001b[0;32m   3105\u001b[0m \u001b[38;5;28;01mdef\u001b[39;00m \u001b[38;5;21m_fit\u001b[39m(\u001b[38;5;28mself\u001b[39m, X, y\u001b[38;5;241m=\u001b[39m\u001b[38;5;28;01mNone\u001b[39;00m, force_transform\u001b[38;5;241m=\u001b[39m\u001b[38;5;28;01mFalse\u001b[39;00m):\n\u001b[1;32m-> 3106\u001b[0m     X \u001b[38;5;241m=\u001b[39m \u001b[38;5;28mself\u001b[39m\u001b[38;5;241m.\u001b[39m_check_input(X, in_fit\u001b[38;5;241m=\u001b[39m\u001b[38;5;28;01mTrue\u001b[39;00m, check_positive\u001b[38;5;241m=\u001b[39m\u001b[38;5;28;01mTrue\u001b[39;00m)\n\u001b[0;32m   3108\u001b[0m     \u001b[38;5;28;01mif\u001b[39;00m \u001b[38;5;129;01mnot\u001b[39;00m \u001b[38;5;28mself\u001b[39m\u001b[38;5;241m.\u001b[39mcopy \u001b[38;5;129;01mand\u001b[39;00m \u001b[38;5;129;01mnot\u001b[39;00m force_transform:  \u001b[38;5;66;03m# if call from fit()\u001b[39;00m\n\u001b[0;32m   3109\u001b[0m         X \u001b[38;5;241m=\u001b[39m X\u001b[38;5;241m.\u001b[39mcopy()  \u001b[38;5;66;03m# force copy so that fit does not change X inplace\u001b[39;00m\n",
      "File \u001b[1;32m~\\anaconda3\\Lib\\site-packages\\sklearn\\preprocessing\\_data.py:3339\u001b[0m, in \u001b[0;36mPowerTransformer._check_input\u001b[1;34m(self, X, in_fit, check_positive, check_shape)\u001b[0m\n\u001b[0;32m   3337\u001b[0m     warnings\u001b[38;5;241m.\u001b[39mfilterwarnings(\u001b[38;5;124m\"\u001b[39m\u001b[38;5;124mignore\u001b[39m\u001b[38;5;124m\"\u001b[39m, \u001b[38;5;124mr\u001b[39m\u001b[38;5;124m\"\u001b[39m\u001b[38;5;124mAll-NaN (slice|axis) encountered\u001b[39m\u001b[38;5;124m\"\u001b[39m)\n\u001b[0;32m   3338\u001b[0m     \u001b[38;5;28;01mif\u001b[39;00m check_positive \u001b[38;5;129;01mand\u001b[39;00m \u001b[38;5;28mself\u001b[39m\u001b[38;5;241m.\u001b[39mmethod \u001b[38;5;241m==\u001b[39m \u001b[38;5;124m\"\u001b[39m\u001b[38;5;124mbox-cox\u001b[39m\u001b[38;5;124m\"\u001b[39m \u001b[38;5;129;01mand\u001b[39;00m np\u001b[38;5;241m.\u001b[39mnanmin(X) \u001b[38;5;241m<\u001b[39m\u001b[38;5;241m=\u001b[39m \u001b[38;5;241m0\u001b[39m:\n\u001b[1;32m-> 3339\u001b[0m         \u001b[38;5;28;01mraise\u001b[39;00m \u001b[38;5;167;01mValueError\u001b[39;00m(\n\u001b[0;32m   3340\u001b[0m             \u001b[38;5;124m\"\u001b[39m\u001b[38;5;124mThe Box-Cox transformation can only be \u001b[39m\u001b[38;5;124m\"\u001b[39m\n\u001b[0;32m   3341\u001b[0m             \u001b[38;5;124m\"\u001b[39m\u001b[38;5;124mapplied to strictly positive data\u001b[39m\u001b[38;5;124m\"\u001b[39m\n\u001b[0;32m   3342\u001b[0m         )\n\u001b[0;32m   3344\u001b[0m \u001b[38;5;28;01mif\u001b[39;00m check_shape \u001b[38;5;129;01mand\u001b[39;00m \u001b[38;5;129;01mnot\u001b[39;00m X\u001b[38;5;241m.\u001b[39mshape[\u001b[38;5;241m1\u001b[39m] \u001b[38;5;241m==\u001b[39m \u001b[38;5;28mlen\u001b[39m(\u001b[38;5;28mself\u001b[39m\u001b[38;5;241m.\u001b[39mlambdas_):\n\u001b[0;32m   3345\u001b[0m     \u001b[38;5;28;01mraise\u001b[39;00m \u001b[38;5;167;01mValueError\u001b[39;00m(\n\u001b[0;32m   3346\u001b[0m         \u001b[38;5;124m\"\u001b[39m\u001b[38;5;124mInput data has a different number of features \u001b[39m\u001b[38;5;124m\"\u001b[39m\n\u001b[0;32m   3347\u001b[0m         \u001b[38;5;124m\"\u001b[39m\u001b[38;5;124mthan fitting data. Should have \u001b[39m\u001b[38;5;132;01m{n}\u001b[39;00m\u001b[38;5;124m, data has \u001b[39m\u001b[38;5;132;01m{m}\u001b[39;00m\u001b[38;5;124m\"\u001b[39m\u001b[38;5;241m.\u001b[39mformat(\n\u001b[0;32m   3348\u001b[0m             n\u001b[38;5;241m=\u001b[39m\u001b[38;5;28mlen\u001b[39m(\u001b[38;5;28mself\u001b[39m\u001b[38;5;241m.\u001b[39mlambdas_), m\u001b[38;5;241m=\u001b[39mX\u001b[38;5;241m.\u001b[39mshape[\u001b[38;5;241m1\u001b[39m]\n\u001b[0;32m   3349\u001b[0m         )\n\u001b[0;32m   3350\u001b[0m     )\n",
      "\u001b[1;31mValueError\u001b[0m: The Box-Cox transformation can only be applied to strictly positive data"
     ]
    }
   ],
   "source": [
    "#from sklearn.preprocessing import PowerTransformer\n",
    "# import numpy as np\n",
    "\n",
    "\n",
    "# Generate some example data\n",
    "X = np.random.randn(100, 2) * 5  # Non-Gaussian data\n",
    "\n",
    "# Instantiate the PowerTransformer\n",
    "pt_yeo = PowerTransformer(method='yeo-johnson')\n",
    "pt_boxcox = PowerTransformer(method='box-cox')\n",
    "\n",
    "# Fit the transformer to the data\n",
    "pt_yeo.fit(X)\n",
    "pt_boxcox.fit(X)\n",
    "\n",
    "# Transform the data\n",
    "X_transformed_yeo = pt_yeo.transform(X)\n",
    "X_transformed_boxcox = pt_boxcox.transform(X)\n",
    "\n",
    "# Inverse transform the data\n",
    "X_original_scale = pt.inverse_transform(X_transformed)\n",
    "\n",
    "X_original_scale\n",
    "\n",
    "plt.figure(figsize=(20,5))\n",
    "plt.subplot(1,3,1).hist(X_transformed_yeo, bins=20, label='Yeo-JOhsnon')\n",
    "plt.legend()\n",
    "plt.subplot(1,3,2).hist(X_transformed_boxcox, bins=20, label='Box-Cox')\n",
    "plt.legend()\n",
    "plt.subplot(1,3,2).hist(X_original_scale, bins=20, label='Original')\n",
    "plt.legend()\n",
    "plt.show()"
   ]
  },
  {
   "cell_type": "code",
   "execution_count": 33,
   "id": "ae3795b8-cca2-47ca-b685-8bc42746e8bd",
   "metadata": {},
   "outputs": [
    {
     "ename": "ValueError",
     "evalue": "The Box-Cox transformation can only be applied to strictly positive data",
     "output_type": "error",
     "traceback": [
      "\u001b[1;31m---------------------------------------------------------------------------\u001b[0m",
      "\u001b[1;31mValueError\u001b[0m                                Traceback (most recent call last)",
      "Cell \u001b[1;32mIn[33], line 14\u001b[0m\n\u001b[0;32m     12\u001b[0m \u001b[38;5;66;03m# Fit the transformer to the data\u001b[39;00m\n\u001b[0;32m     13\u001b[0m pt_yeo\u001b[38;5;241m.\u001b[39mfit(X)\n\u001b[1;32m---> 14\u001b[0m pt_boxcox\u001b[38;5;241m.\u001b[39mfit(X)\n\u001b[0;32m     16\u001b[0m \u001b[38;5;66;03m# Transform the data\u001b[39;00m\n\u001b[0;32m     17\u001b[0m X_transformed_yeo \u001b[38;5;241m=\u001b[39m pt_yeo\u001b[38;5;241m.\u001b[39mtransform(X)\n",
      "File \u001b[1;32m~\\anaconda3\\Lib\\site-packages\\sklearn\\preprocessing\\_data.py:3082\u001b[0m, in \u001b[0;36mPowerTransformer.fit\u001b[1;34m(self, X, y)\u001b[0m\n\u001b[0;32m   3063\u001b[0m \u001b[38;5;250m\u001b[39m\u001b[38;5;124;03m\"\"\"Estimate the optimal parameter lambda for each feature.\u001b[39;00m\n\u001b[0;32m   3064\u001b[0m \n\u001b[0;32m   3065\u001b[0m \u001b[38;5;124;03mThe optimal lambda parameter for minimizing skewness is estimated on\u001b[39;00m\n\u001b[1;32m   (...)\u001b[0m\n\u001b[0;32m   3079\u001b[0m \u001b[38;5;124;03m    Fitted transformer.\u001b[39;00m\n\u001b[0;32m   3080\u001b[0m \u001b[38;5;124;03m\"\"\"\u001b[39;00m\n\u001b[0;32m   3081\u001b[0m \u001b[38;5;28mself\u001b[39m\u001b[38;5;241m.\u001b[39m_validate_params()\n\u001b[1;32m-> 3082\u001b[0m \u001b[38;5;28mself\u001b[39m\u001b[38;5;241m.\u001b[39m_fit(X, y\u001b[38;5;241m=\u001b[39my, force_transform\u001b[38;5;241m=\u001b[39m\u001b[38;5;28;01mFalse\u001b[39;00m)\n\u001b[0;32m   3083\u001b[0m \u001b[38;5;28;01mreturn\u001b[39;00m \u001b[38;5;28mself\u001b[39m\n",
      "File \u001b[1;32m~\\anaconda3\\Lib\\site-packages\\sklearn\\preprocessing\\_data.py:3106\u001b[0m, in \u001b[0;36mPowerTransformer._fit\u001b[1;34m(self, X, y, force_transform)\u001b[0m\n\u001b[0;32m   3105\u001b[0m \u001b[38;5;28;01mdef\u001b[39;00m \u001b[38;5;21m_fit\u001b[39m(\u001b[38;5;28mself\u001b[39m, X, y\u001b[38;5;241m=\u001b[39m\u001b[38;5;28;01mNone\u001b[39;00m, force_transform\u001b[38;5;241m=\u001b[39m\u001b[38;5;28;01mFalse\u001b[39;00m):\n\u001b[1;32m-> 3106\u001b[0m     X \u001b[38;5;241m=\u001b[39m \u001b[38;5;28mself\u001b[39m\u001b[38;5;241m.\u001b[39m_check_input(X, in_fit\u001b[38;5;241m=\u001b[39m\u001b[38;5;28;01mTrue\u001b[39;00m, check_positive\u001b[38;5;241m=\u001b[39m\u001b[38;5;28;01mTrue\u001b[39;00m)\n\u001b[0;32m   3108\u001b[0m     \u001b[38;5;28;01mif\u001b[39;00m \u001b[38;5;129;01mnot\u001b[39;00m \u001b[38;5;28mself\u001b[39m\u001b[38;5;241m.\u001b[39mcopy \u001b[38;5;129;01mand\u001b[39;00m \u001b[38;5;129;01mnot\u001b[39;00m force_transform:  \u001b[38;5;66;03m# if call from fit()\u001b[39;00m\n\u001b[0;32m   3109\u001b[0m         X \u001b[38;5;241m=\u001b[39m X\u001b[38;5;241m.\u001b[39mcopy()  \u001b[38;5;66;03m# force copy so that fit does not change X inplace\u001b[39;00m\n",
      "File \u001b[1;32m~\\anaconda3\\Lib\\site-packages\\sklearn\\preprocessing\\_data.py:3339\u001b[0m, in \u001b[0;36mPowerTransformer._check_input\u001b[1;34m(self, X, in_fit, check_positive, check_shape)\u001b[0m\n\u001b[0;32m   3337\u001b[0m     warnings\u001b[38;5;241m.\u001b[39mfilterwarnings(\u001b[38;5;124m\"\u001b[39m\u001b[38;5;124mignore\u001b[39m\u001b[38;5;124m\"\u001b[39m, \u001b[38;5;124mr\u001b[39m\u001b[38;5;124m\"\u001b[39m\u001b[38;5;124mAll-NaN (slice|axis) encountered\u001b[39m\u001b[38;5;124m\"\u001b[39m)\n\u001b[0;32m   3338\u001b[0m     \u001b[38;5;28;01mif\u001b[39;00m check_positive \u001b[38;5;129;01mand\u001b[39;00m \u001b[38;5;28mself\u001b[39m\u001b[38;5;241m.\u001b[39mmethod \u001b[38;5;241m==\u001b[39m \u001b[38;5;124m\"\u001b[39m\u001b[38;5;124mbox-cox\u001b[39m\u001b[38;5;124m\"\u001b[39m \u001b[38;5;129;01mand\u001b[39;00m np\u001b[38;5;241m.\u001b[39mnanmin(X) \u001b[38;5;241m<\u001b[39m\u001b[38;5;241m=\u001b[39m \u001b[38;5;241m0\u001b[39m:\n\u001b[1;32m-> 3339\u001b[0m         \u001b[38;5;28;01mraise\u001b[39;00m \u001b[38;5;167;01mValueError\u001b[39;00m(\n\u001b[0;32m   3340\u001b[0m             \u001b[38;5;124m\"\u001b[39m\u001b[38;5;124mThe Box-Cox transformation can only be \u001b[39m\u001b[38;5;124m\"\u001b[39m\n\u001b[0;32m   3341\u001b[0m             \u001b[38;5;124m\"\u001b[39m\u001b[38;5;124mapplied to strictly positive data\u001b[39m\u001b[38;5;124m\"\u001b[39m\n\u001b[0;32m   3342\u001b[0m         )\n\u001b[0;32m   3344\u001b[0m \u001b[38;5;28;01mif\u001b[39;00m check_shape \u001b[38;5;129;01mand\u001b[39;00m \u001b[38;5;129;01mnot\u001b[39;00m X\u001b[38;5;241m.\u001b[39mshape[\u001b[38;5;241m1\u001b[39m] \u001b[38;5;241m==\u001b[39m \u001b[38;5;28mlen\u001b[39m(\u001b[38;5;28mself\u001b[39m\u001b[38;5;241m.\u001b[39mlambdas_):\n\u001b[0;32m   3345\u001b[0m     \u001b[38;5;28;01mraise\u001b[39;00m \u001b[38;5;167;01mValueError\u001b[39;00m(\n\u001b[0;32m   3346\u001b[0m         \u001b[38;5;124m\"\u001b[39m\u001b[38;5;124mInput data has a different number of features \u001b[39m\u001b[38;5;124m\"\u001b[39m\n\u001b[0;32m   3347\u001b[0m         \u001b[38;5;124m\"\u001b[39m\u001b[38;5;124mthan fitting data. Should have \u001b[39m\u001b[38;5;132;01m{n}\u001b[39;00m\u001b[38;5;124m, data has \u001b[39m\u001b[38;5;132;01m{m}\u001b[39;00m\u001b[38;5;124m\"\u001b[39m\u001b[38;5;241m.\u001b[39mformat(\n\u001b[0;32m   3348\u001b[0m             n\u001b[38;5;241m=\u001b[39m\u001b[38;5;28mlen\u001b[39m(\u001b[38;5;28mself\u001b[39m\u001b[38;5;241m.\u001b[39mlambdas_), m\u001b[38;5;241m=\u001b[39mX\u001b[38;5;241m.\u001b[39mshape[\u001b[38;5;241m1\u001b[39m]\n\u001b[0;32m   3349\u001b[0m         )\n\u001b[0;32m   3350\u001b[0m     )\n",
      "\u001b[1;31mValueError\u001b[0m: The Box-Cox transformation can only be applied to strictly positive data"
     ]
    }
   ],
   "source": [
    "#from sklearn.preprocessing import PowerTransformer\n",
    "# import numpy as np\n",
    "\n",
    "\n",
    "# Generate some example data\n",
    "X = np.random.randn(100, 2) * 5  # Non-Gaussian data\n",
    "\n",
    "# Instantiate the PowerTransformer\n",
    "pt_yeo = PowerTransformer(method='yeo-johnson')\n",
    "pt_boxcox = PowerTransformer(method='box-cox')\n",
    "\n",
    "# Fit the transformer to the data\n",
    "pt_yeo.fit(X)\n",
    "pt_boxcox.fit(X)\n",
    "\n",
    "# Transform the data\n",
    "X_transformed_yeo = pt_yeo.transform(X)\n",
    "X_transformed_boxcox = pt_boxcox.transform(X)\n",
    "\n",
    "# Inverse transform the data\n",
    "X_original_scale = pt.inverse_transform(X_transformed)\n",
    "\n",
    "X_original_scale\n",
    "\n",
    "plt.figure(figsize=(20,5))\n",
    "plt.subplot(1,3,1).hist(X_transformed_yeo, bins=20, label='Yeo-JOhsnon')\n",
    "plt.legend()\n",
    "plt.subplot(1,3,2).hist(X_transformed_boxcox, bins=20, label='Box-Cox')\n",
    "plt.legend()\n",
    "plt.subplot(1,3,2).hist(X_original_scale, bins=20, label='Original')\n",
    "plt.legend()\n",
    "plt.show()"
   ]
  },
  {
   "cell_type": "code",
   "execution_count": 28,
   "id": "22abc899-8170-4179-908f-08a5a9c19d61",
   "metadata": {},
   "outputs": [
    {
     "data": {
      "image/png": "[encoded data removed]",
      "text/plain": [
       "<Figure size 640x480 with 1 Axes>"
      ]
     },
     "metadata": {},
     "output_type": "display_data"
    }
   ],
   "source": [
    "\n",
    "plt.hist(X_transformed, bins=30, label='Transformed')\n",
    "plt.show()"
   ]
  },
  {
   "cell_type": "code",
   "execution_count": 30,
   "id": "38de0151-edb4-4e58-b914-df2dbf023654",
   "metadata": {},
   "outputs": [
    {
     "data": {
      "image/png": "[encoded data removed]",
      "text/plain": [
       "<Figure size 2000x500 with 2 Axes>"
      ]
     },
     "metadata": {},
     "output_type": "display_data"
    }
   ],
   "source": [
    "plt.figure(figsize=(20,5))\n",
    "plt.subplot(1,2,1).hist(X_transformed, bins=20, label='Transformed')\n",
    "plt.legend()\n",
    "plt.subplot(1,2,2).hist(X_original_scale, bins=20, label='Original')\n",
    "plt.legend()\n",
    "plt.show()"
   ]
  },
  {
   "cell_type": "code",
   "execution_count": 38,
   "id": "6e80ad12-7c2a-42ee-bfaa-729a04140dc3",
   "metadata": {},
   "outputs": [
    {
     "data": {
      "image/png": "[encoded data removed]",
      "text/plain": [
       "<Figure size 2000x500 with 2 Axes>"
      ]
     },
     "metadata": {},
     "output_type": "display_data"
    }
   ],
   "source": [
    "# Generate some example data\n",
    "X = np.random.randn(100, 2)   # Non-Gaussian data\n",
    "\n",
    "# Instantiate the PowerTransformer\n",
    "pt_yeo = PowerTransformer(method='yeo-johnson')\n",
    "\n",
    "# Fit the transformer to the data\n",
    "pt_yeo.fit(X)\n",
    "\n",
    "\n",
    "# Transform the data\n",
    "X_transformed_yeo = pt_yeo.transform(X)\n",
    "\n",
    "\n",
    "# Inverse transform the data\n",
    "X_original_scale = pt.inverse_transform(X_transformed)\n",
    "\n",
    "X_original_scale\n",
    "\n",
    "plt.figure(figsize=(20,5))\n",
    "plt.subplot(1,3,1).hist(X_transformed_yeo, bins=20, label='Yeo-Johnson')\n",
    "plt.legend()\n",
    "plt.subplot(1,3,2).hist(X_original_scale, bins=20, label='Original')\n",
    "plt.legend()\n",
    "plt.show()"
   ]
  },
  {
   "cell_type": "code",
   "execution_count": 54,
   "id": "80be3c76-ed34-4d77-8ee2-e7801229f921",
   "metadata": {},
   "outputs": [
    {
     "data": {
      "image/png": "[encoded data removed]",
      "text/plain": [
       "<Figure size 2000x500 with 3 Axes>"
      ]
     },
     "metadata": {},
     "output_type": "display_data"
    }
   ],
   "source": [
    "# Generate some example data\n",
    "X = np.random.randn(100, 2)   # Non-Gaussian data\n",
    "\n",
    "# Instantiate the PowerTransformer\n",
    "\n",
    "pt_boxcox = PowerTransformer(method='box-cox')\n",
    "\n",
    "# Fit the transformer to the data\n",
    "pt_yeo.fit(X)\n",
    "\n",
    "\n",
    "# Transform the data\n",
    "X_transformed_boxcox = pt_yeo.transform(X)\n",
    "\n",
    "\n",
    "# Inverse transform the data\n",
    "X_original_scale = pt.inverse_transform(X_transformed)\n",
    "\n",
    "X_original_scale\n",
    "\n",
    "plt.figure(figsize=(20,5))\n",
    "plt.subplot(1,3,1).hist(X_transformed_boxcox, bins=20, label='Yeo-Johnson')\n",
    "plt.legend()\n",
    "plt.subplot(1,3,2).hist(X_original_scale, bins=20, label='Original_Inverted')\n",
    "plt.legend()\n",
    "plt.subplot(1,3,3).hist(X, bins=20, label='Original')\n",
    "plt.legend()\n",
    "plt.show()"
   ]
  },
  {
   "cell_type": "code",
   "execution_count": 53,
   "id": "5c64669b-1847-4882-8409-50606cb79b8c",
   "metadata": {},
   "outputs": [
    {
     "ename": "NotFittedError",
     "evalue": "This PowerTransformer instance is not fitted yet. Call 'fit' with appropriate arguments before using this estimator.",
     "output_type": "error",
     "traceback": [
      "\u001b[1;31m---------------------------------------------------------------------------\u001b[0m",
      "\u001b[1;31mNotFittedError\u001b[0m                            Traceback (most recent call last)",
      "Cell \u001b[1;32mIn[53], line 16\u001b[0m\n\u001b[0;32m     11\u001b[0m pt_yeo\u001b[38;5;241m.\u001b[39mfit(X)\n\u001b[0;32m     12\u001b[0m \u001b[38;5;66;03m#pt_boxcox.fit(X)\u001b[39;00m\n\u001b[0;32m     13\u001b[0m \n\u001b[0;32m     14\u001b[0m \n\u001b[0;32m     15\u001b[0m \u001b[38;5;66;03m# Transform the data\u001b[39;00m\n\u001b[1;32m---> 16\u001b[0m X_transformed_boxcox \u001b[38;5;241m=\u001b[39m pt_boxcox\u001b[38;5;241m.\u001b[39mtransform(X)\n\u001b[0;32m     17\u001b[0m X_transformed_yeo \u001b[38;5;241m=\u001b[39m pt_yeo\u001b[38;5;241m.\u001b[39mtransform(X)\n\u001b[0;32m     20\u001b[0m \u001b[38;5;66;03m# Inverse transform the data\u001b[39;00m\n",
      "File \u001b[1;32m~\\anaconda3\\Lib\\site-packages\\sklearn\\utils\\_set_output.py:140\u001b[0m, in \u001b[0;36m_wrap_method_output.<locals>.wrapped\u001b[1;34m(self, X, *args, **kwargs)\u001b[0m\n\u001b[0;32m    138\u001b[0m \u001b[38;5;129m@wraps\u001b[39m(f)\n\u001b[0;32m    139\u001b[0m \u001b[38;5;28;01mdef\u001b[39;00m \u001b[38;5;21mwrapped\u001b[39m(\u001b[38;5;28mself\u001b[39m, X, \u001b[38;5;241m*\u001b[39margs, \u001b[38;5;241m*\u001b[39m\u001b[38;5;241m*\u001b[39mkwargs):\n\u001b[1;32m--> 140\u001b[0m     data_to_wrap \u001b[38;5;241m=\u001b[39m f(\u001b[38;5;28mself\u001b[39m, X, \u001b[38;5;241m*\u001b[39margs, \u001b[38;5;241m*\u001b[39m\u001b[38;5;241m*\u001b[39mkwargs)\n\u001b[0;32m    141\u001b[0m     \u001b[38;5;28;01mif\u001b[39;00m \u001b[38;5;28misinstance\u001b[39m(data_to_wrap, \u001b[38;5;28mtuple\u001b[39m):\n\u001b[0;32m    142\u001b[0m         \u001b[38;5;66;03m# only wrap the first output for cross decomposition\u001b[39;00m\n\u001b[0;32m    143\u001b[0m         \u001b[38;5;28;01mreturn\u001b[39;00m (\n\u001b[0;32m    144\u001b[0m             _wrap_data_with_container(method, data_to_wrap[\u001b[38;5;241m0\u001b[39m], X, \u001b[38;5;28mself\u001b[39m),\n\u001b[0;32m    145\u001b[0m             \u001b[38;5;241m*\u001b[39mdata_to_wrap[\u001b[38;5;241m1\u001b[39m:],\n\u001b[0;32m    146\u001b[0m         )\n",
      "File \u001b[1;32m~\\anaconda3\\Lib\\site-packages\\sklearn\\preprocessing\\_data.py:3149\u001b[0m, in \u001b[0;36mPowerTransformer.transform\u001b[1;34m(self, X)\u001b[0m\n\u001b[0;32m   3136\u001b[0m \u001b[38;5;28;01mdef\u001b[39;00m \u001b[38;5;21mtransform\u001b[39m(\u001b[38;5;28mself\u001b[39m, X):\n\u001b[0;32m   3137\u001b[0m \u001b[38;5;250m    \u001b[39m\u001b[38;5;124;03m\"\"\"Apply the power transform to each feature using the fitted lambdas.\u001b[39;00m\n\u001b[0;32m   3138\u001b[0m \n\u001b[0;32m   3139\u001b[0m \u001b[38;5;124;03m    Parameters\u001b[39;00m\n\u001b[1;32m   (...)\u001b[0m\n\u001b[0;32m   3147\u001b[0m \u001b[38;5;124;03m        The transformed data.\u001b[39;00m\n\u001b[0;32m   3148\u001b[0m \u001b[38;5;124;03m    \"\"\"\u001b[39;00m\n\u001b[1;32m-> 3149\u001b[0m     check_is_fitted(\u001b[38;5;28mself\u001b[39m)\n\u001b[0;32m   3150\u001b[0m     X \u001b[38;5;241m=\u001b[39m \u001b[38;5;28mself\u001b[39m\u001b[38;5;241m.\u001b[39m_check_input(X, in_fit\u001b[38;5;241m=\u001b[39m\u001b[38;5;28;01mFalse\u001b[39;00m, check_positive\u001b[38;5;241m=\u001b[39m\u001b[38;5;28;01mTrue\u001b[39;00m, check_shape\u001b[38;5;241m=\u001b[39m\u001b[38;5;28;01mTrue\u001b[39;00m)\n\u001b[0;32m   3152\u001b[0m     transform_function \u001b[38;5;241m=\u001b[39m {\n\u001b[0;32m   3153\u001b[0m         \u001b[38;5;124m\"\u001b[39m\u001b[38;5;124mbox-cox\u001b[39m\u001b[38;5;124m\"\u001b[39m: boxcox,\n\u001b[0;32m   3154\u001b[0m         \u001b[38;5;124m\"\u001b[39m\u001b[38;5;124myeo-johnson\u001b[39m\u001b[38;5;124m\"\u001b[39m: \u001b[38;5;28mself\u001b[39m\u001b[38;5;241m.\u001b[39m_yeo_johnson_transform,\n\u001b[0;32m   3155\u001b[0m     }[\u001b[38;5;28mself\u001b[39m\u001b[38;5;241m.\u001b[39mmethod]\n",
      "File \u001b[1;32m~\\anaconda3\\Lib\\site-packages\\sklearn\\utils\\validation.py:1390\u001b[0m, in \u001b[0;36mcheck_is_fitted\u001b[1;34m(estimator, attributes, msg, all_or_any)\u001b[0m\n\u001b[0;32m   1385\u001b[0m     fitted \u001b[38;5;241m=\u001b[39m [\n\u001b[0;32m   1386\u001b[0m         v \u001b[38;5;28;01mfor\u001b[39;00m v \u001b[38;5;129;01min\u001b[39;00m \u001b[38;5;28mvars\u001b[39m(estimator) \u001b[38;5;28;01mif\u001b[39;00m v\u001b[38;5;241m.\u001b[39mendswith(\u001b[38;5;124m\"\u001b[39m\u001b[38;5;124m_\u001b[39m\u001b[38;5;124m\"\u001b[39m) \u001b[38;5;129;01mand\u001b[39;00m \u001b[38;5;129;01mnot\u001b[39;00m v\u001b[38;5;241m.\u001b[39mstartswith(\u001b[38;5;124m\"\u001b[39m\u001b[38;5;124m__\u001b[39m\u001b[38;5;124m\"\u001b[39m)\n\u001b[0;32m   1387\u001b[0m     ]\n\u001b[0;32m   1389\u001b[0m \u001b[38;5;28;01mif\u001b[39;00m \u001b[38;5;129;01mnot\u001b[39;00m fitted:\n\u001b[1;32m-> 1390\u001b[0m     \u001b[38;5;28;01mraise\u001b[39;00m NotFittedError(msg \u001b[38;5;241m%\u001b[39m {\u001b[38;5;124m\"\u001b[39m\u001b[38;5;124mname\u001b[39m\u001b[38;5;124m\"\u001b[39m: \u001b[38;5;28mtype\u001b[39m(estimator)\u001b[38;5;241m.\u001b[39m\u001b[38;5;18m__name__\u001b[39m})\n",
      "\u001b[1;31mNotFittedError\u001b[0m: This PowerTransformer instance is not fitted yet. Call 'fit' with appropriate arguments before using this estimator."
     ]
    }
   ],
   "source": [
    "# Generate some example data\n",
    "X = np.random.randn(100, 2)   # Non-Gaussian data\n",
    "\n",
    "# Instantiate the PowerTransformer\n",
    "\n",
    "pt_boxcox = PowerTransformer(method='box-cox')\n",
    "\n",
    "pt_yeo = PowerTransformer(method='yeo-johnson')\n",
    "\n",
    "# Fit the transformer to the data\n",
    "pt_yeo.fit(X)\n",
    "#pt_boxcox.fit(X)\n",
    "\n",
    "\n",
    "# Transform the data\n",
    "X_transformed_boxcox = pt_boxcox.transform(X)\n",
    "X_transformed_yeo = pt_yeo.transform(X)\n",
    "\n",
    "\n",
    "# Inverse transform the data\n",
    "X_original_scale = pt.inverse_transform(X_transformed)\n",
    "\n",
    "X_original_scale\n",
    "\n",
    "plt.figure(figsize=(20,5))\n",
    "plt.subplot(1,3,1).hist(X_transformed_boxcox, bins=20, label='Box-Cox')\n",
    "plt.legend()\n",
    "plt.subplot(1,3,2).hist(X_original_scale, bins=20, label='Original')\n",
    "plt.legend()\n",
    "\n",
    "plt.show()"
   ]
  },
  {
   "cell_type": "code",
   "execution_count": 43,
   "id": "e96df388-3ec0-4fc6-984a-bc8899e63a23",
   "metadata": {},
   "outputs": [
    {
     "ename": "ValueError",
     "evalue": "Expected 2D array, got 1D array instead:\narray=[1.05267331 1.42054603 0.68828324 ... 0.61212033 0.41019924 2.04044237].\nReshape your data either using array.reshape(-1, 1) if your data has a single feature or array.reshape(1, -1) if it contains a single sample.",
     "output_type": "error",
     "traceback": [
      "\u001b[1;31m---------------------------------------------------------------------------\u001b[0m",
      "\u001b[1;31mValueError\u001b[0m                                Traceback (most recent call last)",
      "Cell \u001b[1;32mIn[43], line 11\u001b[0m\n\u001b[0;32m      8\u001b[0m pt \u001b[38;5;241m=\u001b[39m PowerTransformer(method\u001b[38;5;241m=\u001b[39m\u001b[38;5;124m'\u001b[39m\u001b[38;5;124myeo-johnson\u001b[39m\u001b[38;5;124m'\u001b[39m)\n\u001b[0;32m     10\u001b[0m \u001b[38;5;66;03m# Fit the transformer to the data\u001b[39;00m\n\u001b[1;32m---> 11\u001b[0m pt\u001b[38;5;241m.\u001b[39mfit(X)\n\u001b[0;32m     13\u001b[0m \u001b[38;5;66;03m# Transform the data\u001b[39;00m\n\u001b[0;32m     14\u001b[0m X_transformed \u001b[38;5;241m=\u001b[39m pt\u001b[38;5;241m.\u001b[39mtransform(X)\n",
      "File \u001b[1;32m~\\anaconda3\\Lib\\site-packages\\sklearn\\preprocessing\\_data.py:3082\u001b[0m, in \u001b[0;36mPowerTransformer.fit\u001b[1;34m(self, X, y)\u001b[0m\n\u001b[0;32m   3063\u001b[0m \u001b[38;5;250m\u001b[39m\u001b[38;5;124;03m\"\"\"Estimate the optimal parameter lambda for each feature.\u001b[39;00m\n\u001b[0;32m   3064\u001b[0m \n\u001b[0;32m   3065\u001b[0m \u001b[38;5;124;03mThe optimal lambda parameter for minimizing skewness is estimated on\u001b[39;00m\n\u001b[1;32m   (...)\u001b[0m\n\u001b[0;32m   3079\u001b[0m \u001b[38;5;124;03m    Fitted transformer.\u001b[39;00m\n\u001b[0;32m   3080\u001b[0m \u001b[38;5;124;03m\"\"\"\u001b[39;00m\n\u001b[0;32m   3081\u001b[0m \u001b[38;5;28mself\u001b[39m\u001b[38;5;241m.\u001b[39m_validate_params()\n\u001b[1;32m-> 3082\u001b[0m \u001b[38;5;28mself\u001b[39m\u001b[38;5;241m.\u001b[39m_fit(X, y\u001b[38;5;241m=\u001b[39my, force_transform\u001b[38;5;241m=\u001b[39m\u001b[38;5;28;01mFalse\u001b[39;00m)\n\u001b[0;32m   3083\u001b[0m \u001b[38;5;28;01mreturn\u001b[39;00m \u001b[38;5;28mself\u001b[39m\n",
      "File \u001b[1;32m~\\anaconda3\\Lib\\site-packages\\sklearn\\preprocessing\\_data.py:3106\u001b[0m, in \u001b[0;36mPowerTransformer._fit\u001b[1;34m(self, X, y, force_transform)\u001b[0m\n\u001b[0;32m   3105\u001b[0m \u001b[38;5;28;01mdef\u001b[39;00m \u001b[38;5;21m_fit\u001b[39m(\u001b[38;5;28mself\u001b[39m, X, y\u001b[38;5;241m=\u001b[39m\u001b[38;5;28;01mNone\u001b[39;00m, force_transform\u001b[38;5;241m=\u001b[39m\u001b[38;5;28;01mFalse\u001b[39;00m):\n\u001b[1;32m-> 3106\u001b[0m     X \u001b[38;5;241m=\u001b[39m \u001b[38;5;28mself\u001b[39m\u001b[38;5;241m.\u001b[39m_check_input(X, in_fit\u001b[38;5;241m=\u001b[39m\u001b[38;5;28;01mTrue\u001b[39;00m, check_positive\u001b[38;5;241m=\u001b[39m\u001b[38;5;28;01mTrue\u001b[39;00m)\n\u001b[0;32m   3108\u001b[0m     \u001b[38;5;28;01mif\u001b[39;00m \u001b[38;5;129;01mnot\u001b[39;00m \u001b[38;5;28mself\u001b[39m\u001b[38;5;241m.\u001b[39mcopy \u001b[38;5;129;01mand\u001b[39;00m \u001b[38;5;129;01mnot\u001b[39;00m force_transform:  \u001b[38;5;66;03m# if call from fit()\u001b[39;00m\n\u001b[0;32m   3109\u001b[0m         X \u001b[38;5;241m=\u001b[39m X\u001b[38;5;241m.\u001b[39mcopy()  \u001b[38;5;66;03m# force copy so that fit does not change X inplace\u001b[39;00m\n",
      "File \u001b[1;32m~\\anaconda3\\Lib\\site-packages\\sklearn\\preprocessing\\_data.py:3327\u001b[0m, in \u001b[0;36mPowerTransformer._check_input\u001b[1;34m(self, X, in_fit, check_positive, check_shape)\u001b[0m\n\u001b[0;32m   3309\u001b[0m \u001b[38;5;28;01mdef\u001b[39;00m \u001b[38;5;21m_check_input\u001b[39m(\u001b[38;5;28mself\u001b[39m, X, in_fit, check_positive\u001b[38;5;241m=\u001b[39m\u001b[38;5;28;01mFalse\u001b[39;00m, check_shape\u001b[38;5;241m=\u001b[39m\u001b[38;5;28;01mFalse\u001b[39;00m):\n\u001b[0;32m   3310\u001b[0m \u001b[38;5;250m    \u001b[39m\u001b[38;5;124;03m\"\"\"Validate the input before fit and transform.\u001b[39;00m\n\u001b[0;32m   3311\u001b[0m \n\u001b[0;32m   3312\u001b[0m \u001b[38;5;124;03m    Parameters\u001b[39;00m\n\u001b[1;32m   (...)\u001b[0m\n\u001b[0;32m   3325\u001b[0m \u001b[38;5;124;03m        If True, check that n_features matches the length of self.lambdas_\u001b[39;00m\n\u001b[0;32m   3326\u001b[0m \u001b[38;5;124;03m    \"\"\"\u001b[39;00m\n\u001b[1;32m-> 3327\u001b[0m     X \u001b[38;5;241m=\u001b[39m \u001b[38;5;28mself\u001b[39m\u001b[38;5;241m.\u001b[39m_validate_data(\n\u001b[0;32m   3328\u001b[0m         X,\n\u001b[0;32m   3329\u001b[0m         ensure_2d\u001b[38;5;241m=\u001b[39m\u001b[38;5;28;01mTrue\u001b[39;00m,\n\u001b[0;32m   3330\u001b[0m         dtype\u001b[38;5;241m=\u001b[39mFLOAT_DTYPES,\n\u001b[0;32m   3331\u001b[0m         copy\u001b[38;5;241m=\u001b[39m\u001b[38;5;28mself\u001b[39m\u001b[38;5;241m.\u001b[39mcopy,\n\u001b[0;32m   3332\u001b[0m         force_all_finite\u001b[38;5;241m=\u001b[39m\u001b[38;5;124m\"\u001b[39m\u001b[38;5;124mallow-nan\u001b[39m\u001b[38;5;124m\"\u001b[39m,\n\u001b[0;32m   3333\u001b[0m         reset\u001b[38;5;241m=\u001b[39min_fit,\n\u001b[0;32m   3334\u001b[0m     )\n\u001b[0;32m   3336\u001b[0m     \u001b[38;5;28;01mwith\u001b[39;00m warnings\u001b[38;5;241m.\u001b[39mcatch_warnings():\n\u001b[0;32m   3337\u001b[0m         warnings\u001b[38;5;241m.\u001b[39mfilterwarnings(\u001b[38;5;124m\"\u001b[39m\u001b[38;5;124mignore\u001b[39m\u001b[38;5;124m\"\u001b[39m, \u001b[38;5;124mr\u001b[39m\u001b[38;5;124m\"\u001b[39m\u001b[38;5;124mAll-NaN (slice|axis) encountered\u001b[39m\u001b[38;5;124m\"\u001b[39m)\n",
      "File \u001b[1;32m~\\anaconda3\\Lib\\site-packages\\sklearn\\base.py:565\u001b[0m, in \u001b[0;36mBaseEstimator._validate_data\u001b[1;34m(self, X, y, reset, validate_separately, **check_params)\u001b[0m\n\u001b[0;32m    563\u001b[0m     \u001b[38;5;28;01mraise\u001b[39;00m \u001b[38;5;167;01mValueError\u001b[39;00m(\u001b[38;5;124m\"\u001b[39m\u001b[38;5;124mValidation should be done on X, y or both.\u001b[39m\u001b[38;5;124m\"\u001b[39m)\n\u001b[0;32m    564\u001b[0m \u001b[38;5;28;01melif\u001b[39;00m \u001b[38;5;129;01mnot\u001b[39;00m no_val_X \u001b[38;5;129;01mand\u001b[39;00m no_val_y:\n\u001b[1;32m--> 565\u001b[0m     X \u001b[38;5;241m=\u001b[39m check_array(X, input_name\u001b[38;5;241m=\u001b[39m\u001b[38;5;124m\"\u001b[39m\u001b[38;5;124mX\u001b[39m\u001b[38;5;124m\"\u001b[39m, \u001b[38;5;241m*\u001b[39m\u001b[38;5;241m*\u001b[39mcheck_params)\n\u001b[0;32m    566\u001b[0m     out \u001b[38;5;241m=\u001b[39m X\n\u001b[0;32m    567\u001b[0m \u001b[38;5;28;01melif\u001b[39;00m no_val_X \u001b[38;5;129;01mand\u001b[39;00m \u001b[38;5;129;01mnot\u001b[39;00m no_val_y:\n",
      "File \u001b[1;32m~\\anaconda3\\Lib\\site-packages\\sklearn\\utils\\validation.py:902\u001b[0m, in \u001b[0;36mcheck_array\u001b[1;34m(array, accept_sparse, accept_large_sparse, dtype, order, copy, force_all_finite, ensure_2d, allow_nd, ensure_min_samples, ensure_min_features, estimator, input_name)\u001b[0m\n\u001b[0;32m    900\u001b[0m     \u001b[38;5;66;03m# If input is 1D raise error\u001b[39;00m\n\u001b[0;32m    901\u001b[0m     \u001b[38;5;28;01mif\u001b[39;00m array\u001b[38;5;241m.\u001b[39mndim \u001b[38;5;241m==\u001b[39m \u001b[38;5;241m1\u001b[39m:\n\u001b[1;32m--> 902\u001b[0m         \u001b[38;5;28;01mraise\u001b[39;00m \u001b[38;5;167;01mValueError\u001b[39;00m(\n\u001b[0;32m    903\u001b[0m             \u001b[38;5;124m\"\u001b[39m\u001b[38;5;124mExpected 2D array, got 1D array instead:\u001b[39m\u001b[38;5;130;01m\\n\u001b[39;00m\u001b[38;5;124marray=\u001b[39m\u001b[38;5;132;01m{}\u001b[39;00m\u001b[38;5;124m.\u001b[39m\u001b[38;5;130;01m\\n\u001b[39;00m\u001b[38;5;124m\"\u001b[39m\n\u001b[0;32m    904\u001b[0m             \u001b[38;5;124m\"\u001b[39m\u001b[38;5;124mReshape your data either using array.reshape(-1, 1) if \u001b[39m\u001b[38;5;124m\"\u001b[39m\n\u001b[0;32m    905\u001b[0m             \u001b[38;5;124m\"\u001b[39m\u001b[38;5;124myour data has a single feature or array.reshape(1, -1) \u001b[39m\u001b[38;5;124m\"\u001b[39m\n\u001b[0;32m    906\u001b[0m             \u001b[38;5;124m\"\u001b[39m\u001b[38;5;124mif it contains a single sample.\u001b[39m\u001b[38;5;124m\"\u001b[39m\u001b[38;5;241m.\u001b[39mformat(array)\n\u001b[0;32m    907\u001b[0m         )\n\u001b[0;32m    909\u001b[0m \u001b[38;5;28;01mif\u001b[39;00m dtype_numeric \u001b[38;5;129;01mand\u001b[39;00m array\u001b[38;5;241m.\u001b[39mdtype\u001b[38;5;241m.\u001b[39mkind \u001b[38;5;129;01min\u001b[39;00m \u001b[38;5;124m\"\u001b[39m\u001b[38;5;124mUSV\u001b[39m\u001b[38;5;124m\"\u001b[39m:\n\u001b[0;32m    910\u001b[0m     \u001b[38;5;28;01mraise\u001b[39;00m \u001b[38;5;167;01mValueError\u001b[39;00m(\n\u001b[0;32m    911\u001b[0m         \u001b[38;5;124m\"\u001b[39m\u001b[38;5;124mdtype=\u001b[39m\u001b[38;5;124m'\u001b[39m\u001b[38;5;124mnumeric\u001b[39m\u001b[38;5;124m'\u001b[39m\u001b[38;5;124m is not compatible with arrays of bytes/strings.\u001b[39m\u001b[38;5;124m\"\u001b[39m\n\u001b[0;32m    912\u001b[0m         \u001b[38;5;124m\"\u001b[39m\u001b[38;5;124mConvert your data to numeric values explicitly instead.\u001b[39m\u001b[38;5;124m\"\u001b[39m\n\u001b[0;32m    913\u001b[0m     )\n",
      "\u001b[1;31mValueError\u001b[0m: Expected 2D array, got 1D array instead:\narray=[1.05267331 1.42054603 0.68828324 ... 0.61212033 0.41019924 2.04044237].\nReshape your data either using array.reshape(-1, 1) if your data has a single feature or array.reshape(1, -1) if it contains a single sample."
     ]
    }
   ],
   "source": [
    "from sklearn.preprocessing import PowerTransformer\n",
    "import numpy as np\n",
    "\n",
    "# Generate some example data\n",
    "X = np.random.exponential(size=10000) # Non-Gaussian data\n",
    "\n",
    "# Instantiate the PowerTransformer\n",
    "pt = PowerTransformer(method='yeo-johnson')\n",
    "\n",
    "# Fit the transformer to the data\n",
    "pt.fit(X)\n",
    "\n",
    "# Transform the data\n",
    "X_transformed = pt.transform(X)\n",
    "\n",
    "# Inverse transform the data\n",
    "X_original_scale = pt.inverse_transform(X_transformed)"
   ]
  },
  {
   "cell_type": "code",
   "execution_count": 48,
   "id": "c7232f62-fdc0-41f3-95bd-18f12d7fb624",
   "metadata": {},
   "outputs": [
    {
     "data": {
      "text/plain": [
       "array([[ 1.47228739,  1.23423643],\n",
       "       [-1.9227713 , -0.55066068],\n",
       "       [-0.96183862, -0.92511691],\n",
       "       [-0.86929094, -0.51637925],\n",
       "       [-0.17210069, -1.13234275],\n",
       "       [-0.30411429, -0.7353401 ],\n",
       "       [-0.72285759, -1.80552526],\n",
       "       [-1.034007  ,  0.53038197],\n",
       "       [ 2.47454863,  0.20675546],\n",
       "       [-0.19764998, -0.62889798],\n",
       "       [-2.1289988 , -0.07570953],\n",
       "       [ 0.3266501 , -0.19872943],\n",
       "       [-1.69741233,  0.39243418],\n",
       "       [ 1.59593262, -0.80641264],\n",
       "       [-0.01800907,  0.16028885],\n",
       "       [ 0.31856846,  0.90777629],\n",
       "       [ 1.58011062, -1.10083026],\n",
       "       [ 0.19320815, -0.63101032],\n",
       "       [ 0.27382719, -1.15645738],\n",
       "       [ 1.05259376,  0.2495505 ],\n",
       "       [-0.31637218,  1.39586099],\n",
       "       [ 0.3080548 , -0.91876114],\n",
       "       [ 0.18567615, -0.35178822],\n",
       "       [ 0.9928294 , -0.17240657],\n",
       "       [-0.66670345,  0.11489003],\n",
       "       [-0.70844074, -0.9174847 ],\n",
       "       [-0.66562183,  0.19686828],\n",
       "       [ 1.26155464,  1.00659356],\n",
       "       [-0.5179498 , -0.46017786],\n",
       "       [-0.57541396,  0.3851809 ],\n",
       "       [-0.26754899, -1.12741609],\n",
       "       [ 0.6133549 ,  0.13331827],\n",
       "       [ 0.30299005, -0.35042326],\n",
       "       [ 0.44529197,  0.3032276 ],\n",
       "       [-1.5769887 , -0.28891893],\n",
       "       [-0.77117554,  1.85950449],\n",
       "       [ 0.64336323, -0.85347499],\n",
       "       [ 0.33267874, -0.76366314],\n",
       "       [-0.35582105, -0.03372768],\n",
       "       [-0.29513467, -0.67353487],\n",
       "       [-0.57981193,  0.96744529],\n",
       "       [-0.45760338,  0.87700554],\n",
       "       [ 0.99318802,  0.04678747],\n",
       "       [ 0.84678078, -0.26031308],\n",
       "       [ 0.31459056, -0.03201575],\n",
       "       [-1.62752476,  0.3266638 ],\n",
       "       [-1.03810324,  0.7681383 ],\n",
       "       [-0.55710416, -1.06870343],\n",
       "       [ 0.86895317, -0.05643029],\n",
       "       [ 1.75201705, -0.92769865],\n",
       "       [-0.49270606,  0.23794332],\n",
       "       [-0.25382101,  1.01944459],\n",
       "       [-1.67516276,  0.78117219],\n",
       "       [ 0.69442998,  0.14901768],\n",
       "       [-1.45411924, -0.5923618 ],\n",
       "       [ 1.21089707, -0.24516558],\n",
       "       [-0.51238072,  1.24281982],\n",
       "       [ 0.55405779,  0.86974536],\n",
       "       [-0.19291772, -1.15470191],\n",
       "       [ 1.20834218, -0.4796269 ],\n",
       "       [ 0.66286951, -0.23895541],\n",
       "       [ 0.55415242,  0.23506429],\n",
       "       [ 0.95432646,  1.41799174],\n",
       "       [ 1.37258823, -0.18130681],\n",
       "       [-2.65877843,  1.38990271],\n",
       "       [-0.84183764,  0.46677257],\n",
       "       [-1.07766783, -1.92064658],\n",
       "       [ 1.09228279,  0.32948222],\n",
       "       [ 0.2556609 ,  0.79453095],\n",
       "       [-1.46438072, -0.93638014],\n",
       "       [-1.13269356, -1.02176544],\n",
       "       [-1.31975839, -1.63752526],\n",
       "       [-2.30934088,  1.44716552],\n",
       "       [-1.35586452, -1.24892781],\n",
       "       [ 0.82756406,  0.22597615],\n",
       "       [-0.45838169, -0.13199633],\n",
       "       [ 2.00114201,  0.27162272],\n",
       "       [-1.27105908,  0.76202416],\n",
       "       [ 2.03924179, -1.73030592],\n",
       "       [-0.22659824, -0.17091129],\n",
       "       [-0.82665799,  1.08777052],\n",
       "       [-0.93240307, -0.35153844],\n",
       "       [ 0.65436101,  0.06275555],\n",
       "       [-1.34160047, -0.95560084],\n",
       "       [-0.19236377,  0.10038039],\n",
       "       [ 1.07170642, -0.84843079],\n",
       "       [-0.93177622,  1.0171554 ],\n",
       "       [-1.49204293, -0.500289  ],\n",
       "       [ 2.03564884, -1.34411988],\n",
       "       [ 1.6390368 ,  0.04216496],\n",
       "       [-2.02217492,  1.09435405],\n",
       "       [ 0.14693821, -0.76571028],\n",
       "       [ 0.56761075, -0.99314905],\n",
       "       [-0.33835262, -1.03806768],\n",
       "       [ 0.4272714 , -1.01760911],\n",
       "       [ 0.0459486 , -1.98217104],\n",
       "       [ 0.64921925,  0.13097326],\n",
       "       [-1.57904881, -0.57787616],\n",
       "       [-1.10524589, -1.5785206 ],\n",
       "       [-0.53623245, -0.30443556]])"
      ]
     },
     "execution_count": 48,
     "metadata": {},
     "output_type": "execute_result"
    }
   ],
   "source": [
    "X = np.random.randn(100, 2)\n",
    "X"
   ]
  },
  {
   "cell_type": "code",
   "execution_count": 50,
   "id": "8692d175-cb6a-4375-81b0-b058352efdba",
   "metadata": {},
   "outputs": [
    {
     "data": {
      "text/plain": [
       "(array([[  4.27504712,  -5.40970899],\n",
       "        [ -4.67283005,  -4.98055669],\n",
       "        [ -0.8998452 ,  -5.13661159],\n",
       "        [  6.76669925,   1.02525857],\n",
       "        [  6.79466771,   1.93956733],\n",
       "        [  4.23410415,   3.048207  ],\n",
       "        [ -8.44253808,  -4.87501411],\n",
       "        [ -1.17717445,   5.72608923],\n",
       "        [ -8.88260906,   4.71692287],\n",
       "        [ -5.00455829, -10.22569805],\n",
       "        [  6.15012522,   1.44594992],\n",
       "        [ -5.0814714 ,   1.86872704],\n",
       "        [ -5.38114862,   0.92679348],\n",
       "        [ -0.40909389,  -0.30078166],\n",
       "        [ -1.79847029,   3.96117161],\n",
       "        [ -6.17650694,  -1.27158783],\n",
       "        [ -3.92591923,  -1.0348554 ],\n",
       "        [  8.65276375,   3.58008565],\n",
       "        [ -6.23847753,   8.44295621],\n",
       "        [  5.26478461,   2.82638938],\n",
       "        [ -0.14713828,  -0.95666558],\n",
       "        [  1.85789164,  -4.57095208],\n",
       "        [  0.50281538,   6.21509909],\n",
       "        [  7.40513383,   1.71970231],\n",
       "        [ -0.95177351,   1.38772339],\n",
       "        [ -0.96325729,   3.25302007],\n",
       "        [ -6.73269781,  -2.36853794],\n",
       "        [ -5.56102657,  -1.40119619],\n",
       "        [ -4.24461577,   7.05001257],\n",
       "        [ -0.26797933,  -3.65849229],\n",
       "        [ -9.38806771,  -0.09631881],\n",
       "        [ -1.38735539,  -0.80872917],\n",
       "        [  4.51703519,   1.41256823],\n",
       "        [ -7.61628084,  -0.40143083],\n",
       "        [ -9.02425351,  -2.45586533],\n",
       "        [  4.08225363,  -2.55850564],\n",
       "        [ -2.99244559,  -6.0199995 ],\n",
       "        [ -9.04737155,  -1.21582026],\n",
       "        [ -3.48663939,   3.47829989],\n",
       "        [ -3.81105193,   0.82141293],\n",
       "        [  5.26442348,   7.81351971],\n",
       "        [ -3.95349091,  -1.0783346 ],\n",
       "        [  3.29831896,  -3.51919004],\n",
       "        [  1.88283002,  10.3903322 ],\n",
       "        [  2.42906327,  -1.33310361],\n",
       "        [ -3.75302165,   0.10928466],\n",
       "        [ -2.51827044,  -4.89697603],\n",
       "        [  0.5876633 ,   1.7933177 ],\n",
       "        [ -8.17658972,  -0.59956408],\n",
       "        [ -3.4372332 ,   0.96393458],\n",
       "        [  3.90683604,  -0.45842821],\n",
       "        [ -2.11337356,   0.95015811],\n",
       "        [  0.97818228,   0.71451859],\n",
       "        [  9.83758878,  -5.8482351 ],\n",
       "        [-10.60814593,  -2.72849321],\n",
       "        [  4.90885726,   1.30701314],\n",
       "        [  9.68712194,  -8.82727567],\n",
       "        [  4.94668109,  -5.0282707 ],\n",
       "        [  0.97193624,  -5.07935143],\n",
       "        [  5.66806681,   5.95939504],\n",
       "        [ -7.99009992,   1.60422435],\n",
       "        [ -2.51206349,  -7.69748622],\n",
       "        [  0.79990188,   1.72057504],\n",
       "        [  2.46654044,   4.93545568],\n",
       "        [ -7.70290564,   9.56758759],\n",
       "        [ -3.22883537,   2.12155121],\n",
       "        [ 10.44745398,   6.55311837],\n",
       "        [ -8.66094629,  -1.32828209],\n",
       "        [-11.59958676,  -0.12420918],\n",
       "        [  1.42078983,  -3.92835583],\n",
       "        [ -6.69093842,   5.40962137],\n",
       "        [ -2.56424337,  -1.60950224],\n",
       "        [  3.09065752,  -1.5357123 ],\n",
       "        [  0.39086308,  -1.40962488],\n",
       "        [ -1.68495819,   0.68576236],\n",
       "        [ -1.26593689,  -6.93259655],\n",
       "        [  7.69083522,   8.18695255],\n",
       "        [  1.87262518,  -3.3605868 ],\n",
       "        [  2.53504851,   0.22838956],\n",
       "        [ 16.88949087,   1.63982293],\n",
       "        [  2.61150223,  -1.88264817],\n",
       "        [  2.23411207,  -4.91973802],\n",
       "        [ -0.18139933,  -8.89167633],\n",
       "        [ -1.34601867,  -4.56449635],\n",
       "        [  4.82048715,  -3.16816986],\n",
       "        [ -1.91396769,   2.08354029],\n",
       "        [ -5.03932034,  -3.42529897],\n",
       "        [  2.21081926,  -0.08209526],\n",
       "        [ -1.3846612 ,   4.66396738],\n",
       "        [  4.39945586,   5.20522312],\n",
       "        [  4.17570633,  -1.68432053],\n",
       "        [  0.02131722,  -0.62833509],\n",
       "        [ -3.07786748,   2.81681825],\n",
       "        [  8.72436725,  -4.82137795],\n",
       "        [  4.18642634,   0.83570226],\n",
       "        [  7.80541244,  -3.51197268],\n",
       "        [ -3.98398643,   0.51149549],\n",
       "        [  0.70772938,  12.18728654],\n",
       "        [  6.18213076,  -0.88939964],\n",
       "        [ -0.77221259,   0.87530546]]),\n",
       " array([[ 8.32537169e-01, -1.31049946e+00],\n",
       "        [-8.23986899e-01, -1.19850069e+00],\n",
       "        [-9.38081262e-02, -1.23917356e+00],\n",
       "        [ 1.26108057e+00,  2.84717237e-01],\n",
       "        [ 1.26585813e+00,  4.87445167e-01],\n",
       "        [ 8.25439962e-01,  7.28268333e-01],\n",
       "        [-1.57354360e+00, -1.17102878e+00],\n",
       "        [-1.46334616e-01,  1.29533219e+00],\n",
       "        [-1.66188633e+00,  1.08359029e+00],\n",
       "        [-8.89338139e-01, -2.59325857e+00],\n",
       "        [ 1.15559002e+00,  3.78556837e-01],\n",
       "        [-9.04509760e-01,  4.71890113e-01],\n",
       "        [-9.63690714e-01,  2.62592869e-01],\n",
       "        [-1.59118366e-03, -2.06244868e-02],\n",
       "        [-2.64880166e-01,  9.23565825e-01],\n",
       "        [-1.12125234e+00, -2.55668184e-01],\n",
       "        [-6.77379364e-01, -1.97669289e-01],\n",
       "        [ 1.58192600e+00,  8.42332014e-01],\n",
       "        [-1.13355722e+00,  1.85665589e+00],\n",
       "        [ 1.00351125e+00,  6.80439503e-01],\n",
       "        [ 4.71637198e-02, -1.78599246e-01],\n",
       "        [ 4.09257253e-01, -1.09205040e+00],\n",
       "        [ 1.66357351e-01,  1.39723495e+00],\n",
       "        [ 1.36998192e+00,  4.39091627e-01],\n",
       "        [-1.03622790e-01,  3.65630362e-01],\n",
       "        [-1.05794599e-01,  7.72291464e-01],\n",
       "        [-1.23182789e+00, -5.28697245e-01],\n",
       "        [-9.99263671e-01, -2.87577937e-01],\n",
       "        [-7.39839933e-01,  1.57028150e+00],\n",
       "        [ 2.47195086e-02, -8.56646670e-01],\n",
       "        [-1.76353665e+00,  2.77427705e-02],\n",
       "        [-1.86312124e-01, -1.42644358e-01],\n",
       "        [ 8.74442785e-01,  3.71148273e-01],\n",
       "        [-1.40809645e+00, -4.46062613e-02],\n",
       "        [-1.69035258e+00, -5.50689762e-01],\n",
       "        [ 7.99099375e-01, -5.76581128e-01],\n",
       "        [-4.95337096e-01, -1.47053852e+00],\n",
       "        [-1.69500004e+00, -2.41971234e-01],\n",
       "        [-5.91535409e-01,  8.20567835e-01],\n",
       "        [-6.54903307e-01,  2.38839543e-01],\n",
       "        [ 1.00344907e+00,  1.72758749e+00],\n",
       "        [-6.82777241e-01, -2.08292688e-01],\n",
       "        [ 6.62624916e-01, -8.20938063e-01],\n",
       "        [ 4.13678961e-01,  2.25286571e+00],\n",
       "        [ 5.10191003e-01, -2.70800255e-01],\n",
       "        [-6.43556128e-01,  7.58420065e-02],\n",
       "        [-4.03453251e-01, -1.17674288e+00],\n",
       "        [ 1.81753626e-01,  4.55306527e-01],\n",
       "        [-1.52022949e+00, -9.21111887e-02],\n",
       "        [-5.81899557e-01,  2.70945954e-01],\n",
       "        [ 7.68634053e-01, -5.82333106e-02],\n",
       "        [-3.25357898e-01,  2.67848719e-01],\n",
       "        [ 2.52243410e-01,  2.14660860e-01],\n",
       "        [ 1.78225079e+00, -1.42540861e+00],\n",
       "        [-2.00964723e+00, -6.19558770e-01],\n",
       "        [ 9.42151227e-01,  3.47681141e-01],\n",
       "        [ 1.75685786e+00, -2.21656502e+00],\n",
       "        [ 9.48678279e-01, -1.21092983e+00],\n",
       "        [ 2.51120375e-01, -1.22424248e+00],\n",
       "        [ 1.07287806e+00,  1.34400317e+00],\n",
       "        [-1.48287860e+00,  4.13602669e-01],\n",
       "        [-4.02253431e-01, -1.91454949e+00],\n",
       "        [ 2.20134782e-01,  4.39284012e-01],\n",
       "        [ 5.16790543e-01,  1.12961978e+00],\n",
       "        [-1.42541505e+00,  2.08600965e+00],\n",
       "        [-5.41299680e-01,  5.27303725e-01],\n",
       "        [ 1.88503924e+00,  1.46743067e+00],\n",
       "        [-1.61736950e+00, -2.69613353e-01],\n",
       "        [-2.21035674e+00,  2.11747567e-02],\n",
       "        [ 3.31509922e-01, -9.26003454e-01],\n",
       "        [-1.22351516e+00,  1.22915020e+00],\n",
       "        [-4.12342397e-01, -3.39077173e-01],\n",
       "        [ 6.26323571e-01, -3.20805012e-01],\n",
       "        [ 1.45992675e-01, -2.89656720e-01],\n",
       "        [-2.43140855e-01,  2.08141252e-01],\n",
       "        [-1.63200866e-01, -1.71139036e+00],\n",
       "        [ 1.41861409e+00,  1.80422539e+00],\n",
       "        [ 4.11869760e-01, -7.80362001e-01],\n",
       "        [ 5.28847598e-01,  1.03457782e-01],\n",
       "        [ 2.96003505e+00,  4.21467259e-01],\n",
       "        [ 5.42292746e-01, -4.06977541e-01],\n",
       "        [ 4.75816882e-01, -1.18266649e+00],\n",
       "        [ 4.08088903e-02, -2.23384562e+00],\n",
       "        [-1.78438888e-01, -1.09037631e+00],\n",
       "        [ 9.26895576e-01, -7.31253869e-01],\n",
       "        [-2.87033546e-01,  5.18990228e-01],\n",
       "        [-8.96194291e-01, -7.96907086e-01],\n",
       "        [ 4.71704763e-01,  3.10885055e-02],\n",
       "        [-1.85798818e-01,  1.07242060e+00],\n",
       "        [ 8.54090079e-01,  1.18630164e+00],\n",
       "        [ 8.15313473e-01, -3.57635539e-01],\n",
       "        [ 7.83020065e-02, -9.90397948e-02],\n",
       "        [-5.11934722e-01,  6.78372089e-01],\n",
       "        [ 1.59405743e+00, -1.15707897e+00],\n",
       "        [ 8.17172697e-01,  2.42065146e-01],\n",
       "        [ 1.43810057e+00, -8.19089748e-01],\n",
       "        [-6.88748845e-01,  1.68484629e-01],\n",
       "        [ 2.03488368e-01,  2.61486390e+00],\n",
       "        [ 1.16107402e+00, -1.62229824e-01],\n",
       "        [-6.97281887e-02,  2.50997173e-01]]))"
      ]
     },
     "execution_count": 50,
     "metadata": {},
     "output_type": "execute_result"
    }
   ],
   "source": [
    "from sklearn.preprocessing import PowerTransformer\n",
    "import numpy as np\n",
    "\n",
    "# Generate some example data\n",
    "X = np.random.randn(100, 2) * 5  # Non-Gaussian data\n",
    "\n",
    "# Instantiate the PowerTransformer\n",
    "pt = PowerTransformer(method='yeo-johnson')\n",
    "\n",
    "# Fit the transformer to the data\n",
    "pt.fit(X)\n",
    "\n",
    "# Transform the data\n",
    "X_transformed = pt.transform(X)\n",
    "\n",
    "# Inverse transform the data\n",
    "X_original_scale = pt.inverse_transform(X_transformed)\n",
    "\n",
    "X_original_scale, X_transformed\n"
   ]
  },
  {
   "cell_type": "code",
   "execution_count": 56,
   "id": "0d8b47a9-b5f9-470a-aa86-3890f027c441",
   "metadata": {},
   "outputs": [
    {
     "data": {
      "text/plain": [
       "(array([1052., 1193., 1312., 1373., 1394., 1342., 1143.,  774.,  365.,\n",
       "          52.]),\n",
       " array([-1.77578861, -1.34020176, -0.9046149 , -0.46902805, -0.03344119,\n",
       "         0.40214567,  0.83773252,  1.27331938,  1.70890623,  2.14449309,\n",
       "         2.58007995]),\n",
       " <BarContainer object of 10 artists>)"
      ]
     },
     "execution_count": 56,
     "metadata": {},
     "output_type": "execute_result"
    },
    {
     "data": {
      "image/png": "[encoded data removed]",
      "text/plain": [
       "<Figure size 640x480 with 1 Axes>"
      ]
     },
     "metadata": {},
     "output_type": "display_data"
    }
   ],
   "source": [
    "from sklearn.preprocessing import PowerTransformer\n",
    "power=PowerTransformer(method='yeo-johnson')\n",
    "data_trans=power.fit_transform(exp_data.reshape(-1,1))\n",
    "plt.hist(data_trans)"
   ]
  },
  {
   "cell_type": "code",
   "execution_count": 59,
   "id": "0f070bd8-0082-4b1b-8cb3-0437ec177ce6",
   "metadata": {},
   "outputs": [
    {
     "data": {
      "image/png": "[encoded data removed]",
      "text/plain": [
       "<Figure size 640x480 with 1 Axes>"
      ]
     },
     "metadata": {},
     "output_type": "display_data"
    }
   ],
   "source": [
    "from sklearn.preprocessing import PowerTransformer\n",
    "power=PowerTransformer(method='box-cox')\n",
    "data_trans=power.fit_transform(exp_data.reshape(-1,1))\n",
    "plt.hist(data_trans)\n",
    "plt.show()"
   ]
  },
  {
   "cell_type": "code",
   "execution_count": 60,
   "id": "9dcd0046-f97b-4222-ac5c-84061187994a",
   "metadata": {},
   "outputs": [
    {
     "data": {
      "image/png": "[encoded data removed]",
      "text/plain": [
       "<Figure size 2000x500 with 2 Axes>"
      ]
     },
     "metadata": {},
     "output_type": "display_data"
    }
   ],
   "source": [
    "from sklearn.preprocessing import PowerTransformer\n",
    "power_yeo=PowerTransformer(method='yeo-johnson')\n",
    "data_trans_yeo=power_yeo.fit_transform(exp_data.reshape(-1,1))\n",
    "\n",
    "power_boxcox=PowerTransformer(method='box-cox')\n",
    "data_trans_boxcox=power_boxcox.fit_transform(exp_data.reshape(-1,1))\n",
    "\n",
    "plt.figure(figsize=(20,5))\n",
    "plt.subplot(1,2,1).hist(data_trans_yeo, bins=20, label='Yeo-Johnson')\n",
    "plt.legend()\n",
    "plt.subplot(1,2,2).hist(data_trans_boxcox, bins=20, label='Box-Cox')\n",
    "plt.legend()\n",
    "\n",
    "plt.show()"
   ]
  },
  {
   "cell_type": "code",
   "execution_count": null,
   "id": "4f4b2f7a-21e4-45f7-8831-198cc87e1e27",
   "metadata": {},
   "outputs": [],
   "source": []
  }
 ],
 "metadata": {
  "kernelspec": {
   "display_name": "Python 3 (ipykernel)",
   "language": "python",
   "name": "python3"
  },
  "language_info": {
   "codemirror_mode": {
    "name": "ipython",
    "version": 3
   },
   "file_extension": ".py",
   "mimetype": "text/x-python",
   "name": "python",
   "nbconvert_exporter": "python",
   "pygments_lexer": "ipython3",
   "version": "3.11.7"
  }
 },
 "nbformat": 4,
 "nbformat_minor": 5
}
