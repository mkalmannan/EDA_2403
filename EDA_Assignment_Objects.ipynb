{
 "cells": [
  {
   "cell_type": "code",
   "execution_count": null,
   "id": "cfc434dd-ed16-4ad9-b172-3ddd4a148fcc",
   "metadata": {},
   "outputs": [],
   "source": [
    "import numpy as np\n",
    "import pandas as pd\n",
    "import matplotlib.pyplot as plt\n",
    "import seaborn as sns"
   ]
  },
  {
   "cell_type": "markdown",
   "id": "0eeab896-b313-41f8-8eaa-ccec6312d1b6",
   "metadata": {},
   "source": [
    "**Read Csv file and load visa Dataframe**"
   ]
  },
  {
   "cell_type": "code",
   "execution_count": null,
   "id": "4f447210-8987-4a1a-b93c-44f60bc68a68",
   "metadata": {},
   "outputs": [],
   "source": [
    "# read CSV file and assign to dataframe variable Visa_df\n",
    "visa_df = pd.read_csv(r\"C:\\Users\\Almannan\\OneDrive\\NareshIT\\DSAIML\\DataFiles\\Visadataset.csv\")\n",
    "visa_df\n"
   ]
  },
  {
   "cell_type": "code",
   "execution_count": null,
   "id": "96837f81-3172-47fb-ae50-9a6120f832e9",
   "metadata": {},
   "outputs": [],
   "source": [
    "#get all columns of type- object using selct_dtypes\n",
    "visa_df.select_dtypes(include='object').columns"
   ]
  },
  {
   "cell_type": "code",
   "execution_count": 9,
   "id": "81dd2c1c-39f4-44a3-bab5-b88da88e06c4",
   "metadata": {},
   "outputs": [
    {
     "data": {
      "text/plain": [
       "0           EZYV01\n",
       "1           EZYV02\n",
       "2           EZYV03\n",
       "3           EZYV04\n",
       "4           EZYV05\n",
       "           ...    \n",
       "25475    EZYV25476\n",
       "25476    EZYV25477\n",
       "25477    EZYV25478\n",
       "25478    EZYV25479\n",
       "25479    EZYV25480\n",
       "Name: case_id, Length: 25480, dtype: object"
      ]
     },
     "execution_count": 9,
     "metadata": {},
     "output_type": "execute_result"
    }
   ],
   "source": [
    "visa_df['case_id']"
   ]
  },
  {
   "cell_type": "code",
   "execution_count": 11,
   "id": "b9dc0897-d4a9-4e56-8a0e-4213e44d765d",
   "metadata": {},
   "outputs": [
    {
     "data": {
      "text/plain": [
       "Index(['case_id', 'continent', 'education_of_employee', 'has_job_experience',\n",
       "       'requires_job_training', 'region_of_employment', 'unit_of_wage',\n",
       "       'full_time_position', 'case_status'],\n",
       "      dtype='object')"
      ]
     },
     "execution_count": 11,
     "metadata": {},
     "output_type": "execute_result"
    }
   ],
   "source": [
    "#load all columns in columns list\n",
    "columns=visa_df.select_dtypes(include='object').columns\n",
    "columns"
   ]
  },
  {
   "cell_type": "code",
   "execution_count": 12,
   "id": "5b419275-8787-4477-83d6-7e4a5de3c772",
   "metadata": {},
   "outputs": [
    {
     "name": "stdout",
     "output_type": "stream",
     "text": [
      "case_id\n",
      "continent\n",
      "education_of_employee\n",
      "has_job_experience\n",
      "requires_job_training\n",
      "region_of_employment\n",
      "unit_of_wage\n",
      "full_time_position\n",
      "case_status\n"
     ]
    }
   ],
   "source": [
    "#list all columns using for loop\n",
    "for i in columns:\n",
    "    print(i)"
   ]
  },
  {
   "cell_type": "code",
   "execution_count": null,
   "id": "9d9916a1-482e-43a1-b80d-2f8e5969bec7",
   "metadata": {},
   "outputs": [],
   "source": []
  },
  {
   "cell_type": "code",
   "execution_count": null,
   "id": "0f6c5e00-42e4-4cd2-b2b9-9fd39c935ac7",
   "metadata": {},
   "outputs": [],
   "source": [
    "# display bar chart for all object types\n",
    "column_list=[]\n",
    "unique_list=[]\n",
    "for i in columns:\n",
    "   # print(i)\n",
    "    for j in visa_df[i].unique():\n",
    "        #print(j)\n",
    "        column_name=visa_df[i]==j\n",
    "        val=len(visa_df[column_name])\n",
    "        column_list.append(val)\n",
    "        unique_list.append(j)\n",
    "        column_df = pd.DataFrame(zip(unique_list, column_list),columns=['header', 'Count'])\n",
    "        print(column_df.count)\n"
   ]
  },
  {
   "cell_type": "code",
   "execution_count": 13,
   "id": "7c0aee0a-f6b6-477a-8300-234ba3adcb2e",
   "metadata": {},
   "outputs": [
    {
     "data": {
      "text/plain": [
       "array(['Asia', 'Africa', 'North America', 'Europe', 'South America',\n",
       "       'Oceania'], dtype=object)"
      ]
     },
     "execution_count": 13,
     "metadata": {},
     "output_type": "execute_result"
    }
   ],
   "source": [
    "visa_df['continent'].unique()"
   ]
  },
  {
   "cell_type": "markdown",
   "id": "08f2a594-52d4-4321-a6e3-b9ad0920ffb0",
   "metadata": {},
   "source": [
    "**case id**"
   ]
  },
  {
   "cell_type": "code",
   "execution_count": null,
   "id": "3087bb9b-df20-439a-85f8-cb11df4ee154",
   "metadata": {},
   "outputs": [],
   "source": [
    "column_list=[]\n",
    "unique_list=[]\n",
    "\n",
    "for i in visa_df.case_id.unique():\n",
    "    column_name=visa_df['case_id']==i\n",
    "    val=len(visa_df[column_name])\n",
    "    column_list.append(val)\n",
    "    unique_list.append(i)\n",
    "    \n",
    "column_df= pd.DataFrame(zip(unique_list, column_list),columns=['case_id','Count'])\n",
    "column_df"
   ]
  },
  {
   "cell_type": "code",
   "execution_count": null,
   "id": "1d8c9ad6-120c-476d-a472-d7b97ab9d84a",
   "metadata": {},
   "outputs": [],
   "source": [
    "continent_list=[]\n",
    "unique_list=[]\n",
    "\n",
    "for i in visa_df['education_of_employee'].unique():\n",
    "    con=visa_df['education_of_employee']==i\n",
    "    val=len(visa_df[con])\n",
    "    continent_list.append(val)\n",
    "    unique_list.append(i)\n",
    "    \n",
    "cont_df= pd.DataFrame(zip(unique_list, continent_list),columns=['Continent','Count'])\n",
    "cont_df"
   ]
  },
  {
   "cell_type": "code",
   "execution_count": 25,
   "id": "0f64c1b6-ff34-4ce2-950e-bd339015cbdf",
   "metadata": {},
   "outputs": [
    {
     "name": "stdout",
     "output_type": "stream",
     "text": [
      "the count of Asia is :16861\n",
      "the count of Africa is :551\n",
      "the count of North America is :3292\n",
      "the count of Europe is :3732\n",
      "the count of South America is :852\n",
      "the count of Oceania is :192\n"
     ]
    },
    {
     "data": {
      "text/html": [
       "<div>\n",
       "<style scoped>\n",
       "    .dataframe tbody tr th:only-of-type {\n",
       "        vertical-align: middle;\n",
       "    }\n",
       "\n",
       "    .dataframe tbody tr th {\n",
       "        vertical-align: top;\n",
       "    }\n",
       "\n",
       "    .dataframe thead th {\n",
       "        text-align: right;\n",
       "    }\n",
       "</style>\n",
       "<table border=\"1\" class=\"dataframe\">\n",
       "  <thead>\n",
       "    <tr style=\"text-align: right;\">\n",
       "      <th></th>\n",
       "      <th>Continent</th>\n",
       "      <th>Count</th>\n",
       "    </tr>\n",
       "  </thead>\n",
       "  <tbody>\n",
       "    <tr>\n",
       "      <th>0</th>\n",
       "      <td>Asia</td>\n",
       "      <td>16861</td>\n",
       "    </tr>\n",
       "    <tr>\n",
       "      <th>1</th>\n",
       "      <td>Africa</td>\n",
       "      <td>551</td>\n",
       "    </tr>\n",
       "    <tr>\n",
       "      <th>2</th>\n",
       "      <td>North America</td>\n",
       "      <td>3292</td>\n",
       "    </tr>\n",
       "    <tr>\n",
       "      <th>3</th>\n",
       "      <td>Europe</td>\n",
       "      <td>3732</td>\n",
       "    </tr>\n",
       "    <tr>\n",
       "      <th>4</th>\n",
       "      <td>South America</td>\n",
       "      <td>852</td>\n",
       "    </tr>\n",
       "    <tr>\n",
       "      <th>5</th>\n",
       "      <td>Oceania</td>\n",
       "      <td>192</td>\n",
       "    </tr>\n",
       "  </tbody>\n",
       "</table>\n",
       "</div>"
      ],
      "text/plain": [
       "       Continent  Count\n",
       "0           Asia  16861\n",
       "1         Africa    551\n",
       "2  North America   3292\n",
       "3         Europe   3732\n",
       "4  South America    852\n",
       "5        Oceania    192"
      ]
     },
     "execution_count": 25,
     "metadata": {},
     "output_type": "execute_result"
    }
   ],
   "source": [
    "continent_list=[]\n",
    "unique_list=[]\n",
    "\n",
    "for i in visa_df.continent.unique():\n",
    "    con=visa_df['continent']==i\n",
    "    val=len(visa_df[con])\n",
    "    continent_list.append(val)\n",
    "    unique_list.append(i)\n",
    "    print(f\"the count of {i} is :{val}\")\n",
    "cont_df= pd.DataFrame(zip(unique_list, continent_list),columns=['Continent','Count'])\n",
    "cont_df"
   ]
  },
  {
   "cell_type": "code",
   "execution_count": null,
   "id": "d197c2fb-ca58-4dad-a25a-d1ef17f35e53",
   "metadata": {},
   "outputs": [],
   "source": [
    "continent_list=[]\n",
    "unique_list=[]\n",
    "\n",
    "for i in visa_df['education_of_employee'].unique():\n",
    "    con=visa_df['education_of_employee']==i\n",
    "    val=len(visa_df[con])\n",
    "    continent_list.append(val)\n",
    "    unique_list.append(i)\n",
    "    print(f\"the count of {i} is :{val}\")\n",
    "cont_df= pd.DataFrame(zip(unique_list, continent_list),columns=['Continent','Count'])\n",
    "\n",
    "plt.bar('Continent','Count', data=cont_df)\n",
    "plt.show()"
   ]
  },
  {
   "cell_type": "code",
   "execution_count": null,
   "id": "6ba12a05-0967-45dc-ba11-0c8c6c25b06a",
   "metadata": {},
   "outputs": [],
   "source": [
    "for i in visa_df['education_of_employee'].unique():\n",
    "    print(i)"
   ]
  },
  {
   "cell_type": "code",
   "execution_count": null,
   "id": "7c1876c9-8e69-4b5b-9680-338f88a7157b",
   "metadata": {},
   "outputs": [],
   "source": [
    "for i in visa_df.education_of_employee.unique():\n",
    "    print(i)"
   ]
  },
  {
   "cell_type": "code",
   "execution_count": null,
   "id": "02aafaae-5a47-4e77-9514-403146e91d8f",
   "metadata": {},
   "outputs": [],
   "source": []
  }
 ],
 "metadata": {
  "kernelspec": {
   "display_name": "Python 3 (ipykernel)",
   "language": "python",
   "name": "python3"
  },
  "language_info": {
   "codemirror_mode": {
    "name": "ipython",
    "version": 3
   },
   "file_extension": ".py",
   "mimetype": "text/x-python",
   "name": "python",
   "nbconvert_exporter": "python",
   "pygments_lexer": "ipython3",
   "version": "3.11.7"
  }
 },
 "nbformat": 4,
 "nbformat_minor": 5
}
